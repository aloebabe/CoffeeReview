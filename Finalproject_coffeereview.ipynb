{
 "cells": [
  {
   "cell_type": "markdown",
   "metadata": {},
   "source": [
    "**\"K-State Honor Code \"On my honor, as a student, I have neither given nor received unauthorized aid on this academic work.**"
   ]
  },
  {
   "cell_type": "markdown",
   "metadata": {},
   "source": [
    "# Beautifulsoup\n",
    "\n",
    "* pip install beautifulsoup4\n",
    "* https://www.crummy.com/software/BeautifulSoup/bs4/doc/"
   ]
  },
  {
   "cell_type": "markdown",
   "metadata": {},
   "source": [
    "# Data Source: Coffee Review\n",
    "- Use Google Chrome for the following:\n",
    "- Go to http://www.coffeereview.com/review/page/1/ (1st page of coffee reviews from 1997 to 2018)\n",
    "- Information: product, brand, rating, company location, coffee origin, roast level, price, review data and data characteristics such as agtron, aroma, acidity and body, etc."
   ]
  },
  {
   "cell_type": "markdown",
   "metadata": {},
   "source": [
    "## Why Coffee Review and How does it work?\n",
    "* Leading third-party revew website for coffee. It use to be the only one third-party review website for years.\n",
    "* Over 1 million unique visitors a year.\n",
    "* Coffees are tasted blind using SCAA (Specialty Coffee Association of America) cupping protocols which gives the most accurately assessment on the quality of the coffee (see http://www.scaa.org/?page=resources&d=cupping-protocols).\n",
    "* Originated the 100-point coffee rating system. SCAA and the Cup of Excellence both began using 100-point scale rating one or two year later than Coffee Review.\n",
    "* References: https://templecoffee.com/what-is-coffee-review-and-how-does-it-work/\n",
    "http://www.coffeereview.com/how-coffee-review-works/\n"
   ]
  },
  {
   "cell_type": "markdown",
   "metadata": {},
   "source": [
    "## How are Coffees Evaluated?\n",
    "* They do not evaluate coffee on the basis of what is cool and fashionable.\n",
    "* They do not evaluate coffee on the basis of socio-economic and environmental background of the coffee production.\n",
    "* They only make sensory evaluation of coffee which follows **global coffee community assumptions**:\n",
    "   1. The acidy sensation in coffee is fundamentally good, so long as it is not harsh, overbearing, or astringent.\n",
    "   2. Smoothly viscous or lightly syrupy/silky mouthfeel is better than thin, watery, or silty mouthfeel.\n",
    "   3. Aromatic and flavor notes that are complex and relatively intense are better than those that are simple or faded.\n",
    "   4. Aromatic and flavor notes that are complex and relatively intense are better than those that are simple or faded.\n",
    "   5. Aromas and flavors that develop naturally from the coffee bean itself when skillfully processed and roasted, like floral, fruit, citrus, honey, molasses, and chocolate, are better than flavors that come from mistakes made during fruit removal and drying, such as the taste of rotten fermented fruit, mustiness or moldiness, or medicinal flavors.\n",
    "   6. A long, sweet, flavor-saturated aftertaste is better than a short, fast-fading, astringent or aromatically empty aftertaste. "
   ]
  },
  {
   "cell_type": "markdown",
   "metadata": {},
   "source": [
    "## Rating System in Coffee Review:\n",
    "\n",
    "* 85/86 = An acceptable coffee, but nothing exceptional — the best high-end supermarket whole bean, for example\n",
    "\n",
    "* 87-88 = An interesting coffee but either 1) distinctive yet mildly flawed, or 2) solid but not exciting\n",
    "\n",
    "* 89-90 = A very good coffee, drinkable, with considerable distinction and interest\n",
    "\n",
    "* 91-92 = An exceptional, solid coffee with some excitement and distinction in aroma and flavor – or a super-exceptional coffee that still perhaps has some issue that some consumers may object to but others will love – a big, slightly imbalanced acidity, for example, or an overly lush fruit\n",
    "\n",
    "* 93-94 = Exceptional originality, beauty, individuality and distinction, with no negative issues whatsoever\n",
    "\n",
    "* 95-96 = Perfect in structure, flawless, and shockingly distinctive and beautiful\n",
    "\n",
    "* 97+ = Means: “We have not tasted a coffee of this style as splendid as this one for a long, long time”\n",
    "* I follow this rating system to make the rating cutoffs in the following."
   ]
  },
  {
   "cell_type": "markdown",
   "metadata": {},
   "source": [
    "# Business Questions"
   ]
  },
  {
   "cell_type": "code",
   "execution_count": null,
   "metadata": {
    "collapsed": true
   },
   "outputs": [],
   "source": [
    "* Whether coffee have been evaluated according to Coffee Review's global coffee community assumption?\n",
    "* Where are the coffee roasters? How many U.S. coffee have been evaluated?\n",
    "* Do Kansas and Missouri have good coffee?\n",
    "* "
   ]
  },
  {
   "cell_type": "markdown",
   "metadata": {},
   "source": [
    "# Data Identification and Collection"
   ]
  },
  {
   "cell_type": "code",
   "execution_count": 1,
   "metadata": {
    "collapsed": true
   },
   "outputs": [],
   "source": [
    "# import python packages\n",
    "import requests\n",
    "import re\n",
    "import csv\n",
    "import pandas as pd\n",
    "import urllib\n",
    "import urllib2\n",
    "from multiprocessing.dummy import Pool\n",
    "import os\n",
    "import shutil\n",
    "import time\n",
    "import json\n",
    "import glob\n",
    "from lxml import html\n",
    "from bs4 import BeautifulSoup, SoupStrainer\n",
    "from lxml.html import parse\n",
    "import sys\n",
    "from time import sleep"
   ]
  },
  {
   "cell_type": "markdown",
   "metadata": {},
   "source": [
    "## Web scrape one product (Expresso Republic -Static Peru Cajamarca)\n",
    "* link: http://www.coffeereview.com/review/static-peru-cajamarca/"
   ]
  },
  {
   "cell_type": "markdown",
   "metadata": {},
   "source": [
    " ** Pull the nested structure of the html file**"
   ]
  },
  {
   "cell_type": "code",
   "execution_count": 2,
   "metadata": {},
   "outputs": [
    {
     "name": "stderr",
     "output_type": "stream",
     "text": [
      "C:\\ProgramData\\Anaconda2\\lib\\site-packages\\bs4\\__init__.py:181: UserWarning: No parser was explicitly specified, so I'm using the best available HTML parser for this system (\"lxml\"). This usually isn't a problem, but if you run this code on another system, or in a different virtual environment, it may use a different parser and behave differently.\n",
      "\n",
      "The code that caused this warning is on line 174 of the file C:\\ProgramData\\Anaconda2\\lib\\runpy.py. To get rid of this warning, change code that looks like this:\n",
      "\n",
      " BeautifulSoup(YOUR_MARKUP})\n",
      "\n",
      "to this:\n",
      "\n",
      " BeautifulSoup(YOUR_MARKUP, \"lxml\")\n",
      "\n",
      "  markup_type=markup_type))\n"
     ]
    }
   ],
   "source": [
    "site= \"http://www.coffeereview.com/review/static-peru-cajamarca/\"\n",
    "hdr = {'User-Agent': 'Mozilla/5.0'}\n",
    "req = urllib2.Request(site,headers=hdr)\n",
    "page = urllib2.urlopen(req)\n",
    "soup = BeautifulSoup(page)"
   ]
  },
  {
   "cell_type": "markdown",
   "metadata": {},
   "source": [
    " ** collect information and save it into a dataframe **"
   ]
  },
  {
   "cell_type": "code",
   "execution_count": 3,
   "metadata": {
    "collapsed": true
   },
   "outputs": [],
   "source": [
    "site= \"http://www.coffeereview.com/review/static-peru-cajamarca/\"\n",
    "hdr = {'User-Agent': 'Mozilla/5.0'}\n",
    "req = urllib2.Request(site,headers=hdr)\n",
    "page = urllib2.urlopen(req)\n",
    "soup = BeautifulSoup(page,\"lxml\")\n",
    "rating='Rating: '+soup.find('div', {'class': \"review-rating\"}).contents[0]\n",
    "product='Product: '+soup.find('h2', {'class': \"review-title\"}).contents[0]\n",
    "brand='Brand: '+soup.find('h3').contents[0]\n",
    "prodinfo= [item.text for item in soup.find('div',{'class': \"review-col1\"}).findAll('p')]\n",
    "tasteinfo= [item.text for item in soup.find('div',{'class': \"review-col2\"}).findAll('p')]\n",
    "assess= ['Assessment: '+ p.findNext('p').text for p in soup.findAll('p',{'class': \"subtitle\"})[0]]\n",
    "note= ['Notes: '+ p.findNext('p').text for p in soup.findAll('p',{'class': \"subtitle\"})[1]]\n",
    "bottomline=[item.findNext('p').findNext('p').text for item in soup.findAll('p',{'class': \"subtitle\"})[1]]\n",
    "link=['Link: '+item.findNext('p').a.get('href') for item in soup.findAll('p',{'class': \"subtitle\"})[1]]"
   ]
  },
  {
   "cell_type": "code",
   "execution_count": 4,
   "metadata": {},
   "outputs": [
    {
     "data": {
      "text/html": [
       "<div>\n",
       "<style>\n",
       "    .dataframe thead tr:only-child th {\n",
       "        text-align: right;\n",
       "    }\n",
       "\n",
       "    .dataframe thead th {\n",
       "        text-align: left;\n",
       "    }\n",
       "\n",
       "    .dataframe tbody tr th {\n",
       "        vertical-align: top;\n",
       "    }\n",
       "</style>\n",
       "<table border=\"1\" class=\"dataframe\">\n",
       "  <thead>\n",
       "    <tr style=\"text-align: right;\">\n",
       "      <th></th>\n",
       "      <th>0</th>\n",
       "      <th>1</th>\n",
       "      <th>2</th>\n",
       "    </tr>\n",
       "  </thead>\n",
       "  <tbody>\n",
       "    <tr>\n",
       "      <th>0</th>\n",
       "      <td>Product: Static Peru Cajamarca</td>\n",
       "      <td>Brand: Espresso Republic</td>\n",
       "      <td>Rating: 89</td>\n",
       "    </tr>\n",
       "  </tbody>\n",
       "</table>\n",
       "</div>"
      ],
      "text/plain": [
       "                                0                         1           2\n",
       "0  Product: Static Peru Cajamarca  Brand: Espresso Republic  Rating: 89"
      ]
     },
     "execution_count": 4,
     "metadata": {},
     "output_type": "execute_result"
    }
   ],
   "source": [
    "data_p1 = pd.DataFrame([product,brand, rating]).T\n",
    "data_p1"
   ]
  },
  {
   "cell_type": "code",
   "execution_count": 5,
   "metadata": {},
   "outputs": [
    {
     "data": {
      "text/html": [
       "<div>\n",
       "<style>\n",
       "    .dataframe thead tr:only-child th {\n",
       "        text-align: right;\n",
       "    }\n",
       "\n",
       "    .dataframe thead th {\n",
       "        text-align: left;\n",
       "    }\n",
       "\n",
       "    .dataframe tbody tr th {\n",
       "        vertical-align: top;\n",
       "    }\n",
       "</style>\n",
       "<table border=\"1\" class=\"dataframe\">\n",
       "  <thead>\n",
       "    <tr style=\"text-align: right;\">\n",
       "      <th></th>\n",
       "      <th>0</th>\n",
       "      <th>1</th>\n",
       "      <th>2</th>\n",
       "      <th>3</th>\n",
       "      <th>4</th>\n",
       "      <th>5</th>\n",
       "      <th>6</th>\n",
       "      <th>7</th>\n",
       "      <th>8</th>\n",
       "      <th>9</th>\n",
       "      <th>10</th>\n",
       "    </tr>\n",
       "  </thead>\n",
       "  <tbody>\n",
       "    <tr>\n",
       "      <th>0</th>\n",
       "      <td>Location: Chino, California</td>\n",
       "      <td>Origin: Peru</td>\n",
       "      <td>Roast: Medium-Light</td>\n",
       "      <td>Est. Price: $12.00/12 ounces</td>\n",
       "      <td>Review Date: April 2018</td>\n",
       "      <td>Agtron: 60/75</td>\n",
       "      <td>Aroma: 8</td>\n",
       "      <td>Acidity/Structure: 8</td>\n",
       "      <td>Body: 8</td>\n",
       "      <td>Flavor: 8</td>\n",
       "      <td>Aftertaste: 7</td>\n",
       "    </tr>\n",
       "  </tbody>\n",
       "</table>\n",
       "</div>"
      ],
      "text/plain": [
       "                            0             1                    2   \\\n",
       "0  Location: Chino, California  Origin: Peru  Roast: Medium-Light   \n",
       "\n",
       "                             3                        4              5   \\\n",
       "0  Est. Price: $12.00/12 ounces  Review Date: April 2018  Agtron: 60/75   \n",
       "\n",
       "         6                     7        8          9              10  \n",
       "0  Aroma: 8  Acidity/Structure: 8  Body: 8  Flavor: 8  Aftertaste: 7  "
      ]
     },
     "execution_count": 5,
     "metadata": {},
     "output_type": "execute_result"
    }
   ],
   "source": [
    "data_p2= pd.DataFrame(list(prodinfo+tasteinfo)).T\n",
    "data_p2"
   ]
  },
  {
   "cell_type": "code",
   "execution_count": 6,
   "metadata": {},
   "outputs": [
    {
     "data": {
      "text/html": [
       "<div>\n",
       "<style>\n",
       "    .dataframe thead tr:only-child th {\n",
       "        text-align: right;\n",
       "    }\n",
       "\n",
       "    .dataframe thead th {\n",
       "        text-align: left;\n",
       "    }\n",
       "\n",
       "    .dataframe tbody tr th {\n",
       "        vertical-align: top;\n",
       "    }\n",
       "</style>\n",
       "<table border=\"1\" class=\"dataframe\">\n",
       "  <thead>\n",
       "    <tr style=\"text-align: right;\">\n",
       "      <th></th>\n",
       "      <th>0</th>\n",
       "      <th>1</th>\n",
       "      <th>2</th>\n",
       "    </tr>\n",
       "  </thead>\n",
       "  <tbody>\n",
       "    <tr>\n",
       "      <th>0</th>\n",
       "      <td>Assessment: Quietly and delicately crisp. Cand...</td>\n",
       "      <td>Notes: From Cenfrocafe Cooperative in northern...</td>\n",
       "      <td>Link: http://www.espressorepublic.com/</td>\n",
       "    </tr>\n",
       "  </tbody>\n",
       "</table>\n",
       "</div>"
      ],
      "text/plain": [
       "                                                   0  \\\n",
       "0  Assessment: Quietly and delicately crisp. Cand...   \n",
       "\n",
       "                                                   1  \\\n",
       "0  Notes: From Cenfrocafe Cooperative in northern...   \n",
       "\n",
       "                                        2  \n",
       "0  Link: http://www.espressorepublic.com/  "
      ]
     },
     "execution_count": 6,
     "metadata": {},
     "output_type": "execute_result"
    }
   ],
   "source": [
    "data_p3=pd.DataFrame(assess+note+link).T\n",
    "data_p3"
   ]
  },
  {
   "cell_type": "code",
   "execution_count": 7,
   "metadata": {},
   "outputs": [
    {
     "data": {
      "text/html": [
       "<div>\n",
       "<style>\n",
       "    .dataframe thead tr:only-child th {\n",
       "        text-align: right;\n",
       "    }\n",
       "\n",
       "    .dataframe thead th {\n",
       "        text-align: left;\n",
       "    }\n",
       "\n",
       "    .dataframe tbody tr th {\n",
       "        vertical-align: top;\n",
       "    }\n",
       "</style>\n",
       "<table border=\"1\" class=\"dataframe\">\n",
       "  <thead>\n",
       "    <tr style=\"text-align: right;\">\n",
       "      <th></th>\n",
       "      <th>0</th>\n",
       "      <th>1</th>\n",
       "      <th>2</th>\n",
       "      <th>0</th>\n",
       "      <th>1</th>\n",
       "      <th>2</th>\n",
       "      <th>0</th>\n",
       "      <th>1</th>\n",
       "      <th>2</th>\n",
       "      <th>3</th>\n",
       "      <th>4</th>\n",
       "      <th>5</th>\n",
       "      <th>6</th>\n",
       "      <th>7</th>\n",
       "      <th>8</th>\n",
       "      <th>9</th>\n",
       "      <th>10</th>\n",
       "    </tr>\n",
       "  </thead>\n",
       "  <tbody>\n",
       "    <tr>\n",
       "      <th>0</th>\n",
       "      <td>Product: Static Peru Cajamarca</td>\n",
       "      <td>Brand: Espresso Republic</td>\n",
       "      <td>Rating: 89</td>\n",
       "      <td>Assessment: Quietly and delicately crisp. Cand...</td>\n",
       "      <td>Notes: From Cenfrocafe Cooperative in northern...</td>\n",
       "      <td>Link: http://www.espressorepublic.com/</td>\n",
       "      <td>Location: Chino, California</td>\n",
       "      <td>Origin: Peru</td>\n",
       "      <td>Roast: Medium-Light</td>\n",
       "      <td>Est. Price: $12.00/12 ounces</td>\n",
       "      <td>Review Date: April 2018</td>\n",
       "      <td>Agtron: 60/75</td>\n",
       "      <td>Aroma: 8</td>\n",
       "      <td>Acidity/Structure: 8</td>\n",
       "      <td>Body: 8</td>\n",
       "      <td>Flavor: 8</td>\n",
       "      <td>Aftertaste: 7</td>\n",
       "    </tr>\n",
       "  </tbody>\n",
       "</table>\n",
       "</div>"
      ],
      "text/plain": [
       "                               0                         1           2   \\\n",
       "0  Product: Static Peru Cajamarca  Brand: Espresso Republic  Rating: 89   \n",
       "\n",
       "                                                  0   \\\n",
       "0  Assessment: Quietly and delicately crisp. Cand...   \n",
       "\n",
       "                                                  1   \\\n",
       "0  Notes: From Cenfrocafe Cooperative in northern...   \n",
       "\n",
       "                                       2                            0   \\\n",
       "0  Link: http://www.espressorepublic.com/  Location: Chino, California   \n",
       "\n",
       "             1                    2                             3   \\\n",
       "0  Origin: Peru  Roast: Medium-Light  Est. Price: $12.00/12 ounces   \n",
       "\n",
       "                        4              5         6                     7   \\\n",
       "0  Review Date: April 2018  Agtron: 60/75  Aroma: 8  Acidity/Structure: 8   \n",
       "\n",
       "        8          9              10  \n",
       "0  Body: 8  Flavor: 8  Aftertaste: 7  "
      ]
     },
     "execution_count": 7,
     "metadata": {},
     "output_type": "execute_result"
    }
   ],
   "source": [
    "df=pd.concat([data_p1,data_p3,data_p2],axis=1)\n",
    "df"
   ]
  },
  {
   "cell_type": "markdown",
   "metadata": {},
   "source": [
    "## Webcrawling the full website for all reviews\n",
    "\n",
    "* There are 243 pages of reviews in this website."
   ]
  },
  {
   "cell_type": "markdown",
   "metadata": {},
   "source": [
    "### Get all the hyperlinks of coffee"
   ]
  },
  {
   "cell_type": "code",
   "execution_count": 8,
   "metadata": {},
   "outputs": [
    {
     "data": {
      "text/plain": [
       "4860"
      ]
     },
     "execution_count": 8,
     "metadata": {},
     "output_type": "execute_result"
    }
   ],
   "source": [
    "finallink = []\n",
    "linkp1 =\"http://www.coffeereview.com/review/page/%s\"\n",
    "for i in range(1,244):\n",
    "    link= linkp1 %i\n",
    "    \n",
    "    hdr_link= {'User-Agent': 'Mozilla/5.0'}\n",
    "    req_link = urllib2.Request(link,headers=hdr_link)\n",
    "    page_link = urllib2.urlopen(req_link)\n",
    "    soup_link = BeautifulSoup(page_link)\n",
    "    for item in soup_link.findAll('h2',{'class': \"review-title\"}):\n",
    "        plink= item.a.get('href')\n",
    "        finallink.append([plink])\n",
    "len(finallink) "
   ]
  },
  {
   "cell_type": "code",
   "execution_count": 9,
   "metadata": {},
   "outputs": [
    {
     "data": {
      "text/html": [
       "<div>\n",
       "<style>\n",
       "    .dataframe thead tr:only-child th {\n",
       "        text-align: right;\n",
       "    }\n",
       "\n",
       "    .dataframe thead th {\n",
       "        text-align: left;\n",
       "    }\n",
       "\n",
       "    .dataframe tbody tr th {\n",
       "        vertical-align: top;\n",
       "    }\n",
       "</style>\n",
       "<table border=\"1\" class=\"dataframe\">\n",
       "  <thead>\n",
       "    <tr style=\"text-align: right;\">\n",
       "      <th></th>\n",
       "      <th>0</th>\n",
       "    </tr>\n",
       "  </thead>\n",
       "  <tbody>\n",
       "    <tr>\n",
       "      <th>0</th>\n",
       "      <td>http://www.coffeereview.com/review/tumba-rwanda/</td>\n",
       "    </tr>\n",
       "    <tr>\n",
       "      <th>1</th>\n",
       "      <td>http://www.coffeereview.com/review/mandheling-...</td>\n",
       "    </tr>\n",
       "  </tbody>\n",
       "</table>\n",
       "</div>"
      ],
      "text/plain": [
       "                                                   0\n",
       "0   http://www.coffeereview.com/review/tumba-rwanda/\n",
       "1  http://www.coffeereview.com/review/mandheling-..."
      ]
     },
     "execution_count": 9,
     "metadata": {},
     "output_type": "execute_result"
    }
   ],
   "source": [
    "#save all the links into a dataframe.\n",
    "df_finallink = pd.DataFrame(finallink)\n",
    "df_finallink.head(2)"
   ]
  },
  {
   "cell_type": "code",
   "execution_count": 10,
   "metadata": {
    "collapsed": true
   },
   "outputs": [],
   "source": [
    "# save dataframe into a excel worksheet.\n",
    "df_finallink.to_csv(\"df_finallink.csv\", encoding='utf-8')"
   ]
  },
  {
   "cell_type": "code",
   "execution_count": 11,
   "metadata": {
    "scrolled": true
   },
   "outputs": [
    {
     "data": {
      "text/plain": [
       "2"
      ]
     },
     "execution_count": 11,
     "metadata": {},
     "output_type": "execute_result"
    }
   ],
   "source": [
    "for item in df_finallink[0][90:100]:\n",
    "    hdr_test= {'User-Agent': 'Mozilla/5.0'}\n",
    "    req_test = urllib2.Request(item,headers=hdr_test)\n",
    "    page_test = urllib2.urlopen(req_test)\n",
    "    soup_test = BeautifulSoup(page_test,\"lxml-xml\")\n",
    "len(soup_test)"
   ]
  },
  {
   "cell_type": "markdown",
   "metadata": {},
   "source": [
    "### Get all the required information from the hyperlinks of coffee"
   ]
  },
  {
   "cell_type": "code",
   "execution_count": 12,
   "metadata": {
    "scrolled": true
   },
   "outputs": [],
   "source": [
    "dataAll2 = []\n",
    "\n",
    "for item in df_finallink[0]:\n",
    "    hdr2= {'User-Agent': 'Mozilla/5.0'}\n",
    "    req2 = urllib2.Request(item,headers=hdr2)\n",
    "    page2 = urllib2.urlopen(req2)\n",
    "    soup2 = BeautifulSoup(page2)\n",
    "    \n",
    "    for item in soup2:\n",
    "        product='Product: '+soup2.find('h2', {'class': \"review-title\"}).contents[0]\n",
    "        rating='Rating: '+soup2.find('div', {'class': \"review-rating\"}).contents[0]\n",
    "        brand='Brand: '+soup2.find('h3').contents[0]\n",
    "        prodinfo= [item.text for item in soup2.find('div',{'class': \"review-col1\"}).findAll('p')]\n",
    "        tasteinfo= [item.text for item in soup2.find('div',{'class': \"review-col2\"}).findAll('p')]\n",
    "        assess= ['Assessment: '+ p.findNext('p').text for p in soup2.findAll('p',{'class': \"subtitle\"})[0]]\n",
    "        note= ['Notes: '+ p.findNext('p').text for p in soup2.findAll('p',{'class': \"subtitle\"})[1]]\n",
    "        bottomline=[item.findNext('p').findNext('p').text for item in soup2.findAll('p',{'class': \"subtitle\"})[1]]\n",
    "        data_p1 = pd.DataFrame([product,brand, rating]).T\n",
    "        data_p2= pd.DataFrame(list(prodinfo+tasteinfo)).T\n",
    "        data_p3= pd.DataFrame(assess+note+bottomline).T\n",
    "        df=pd.concat([data_p1,data_p3,data_p2],axis=1,ignore_index=True)\n",
    "        df.index = df.index.astype(str) \n",
    "        le=str(df.reset_index().values.tolist())\n",
    "        s = le.replace('[', '')\n",
    "        s =s.replace(']', '')\n",
    "        s= s.replace(\"'0',\", '')\n",
    "        s= s.replace(\"u'\", '')\n",
    "        s= s.replace(\"'\", '')\n",
    "        dataAll2.append(s)\n",
    "\n",
    "df_All_2 = pd.DataFrame(dataAll2)\n",
    "df_All_2.to_csv(\"df_All_full.csv\", encoding='utf-8')"
   ]
  },
  {
   "cell_type": "markdown",
   "metadata": {},
   "source": [
    "### Data cleaning"
   ]
  },
  {
   "cell_type": "code",
   "execution_count": 13,
   "metadata": {
    "scrolled": true
   },
   "outputs": [
    {
     "data": {
      "text/plain": [
       "(14580, 2)"
      ]
     },
     "execution_count": 13,
     "metadata": {},
     "output_type": "execute_result"
    }
   ],
   "source": [
    "df= pd.read_csv('df_All_full.csv')\n",
    "df.shape"
   ]
  },
  {
   "cell_type": "code",
   "execution_count": 14,
   "metadata": {
    "collapsed": true
   },
   "outputs": [],
   "source": [
    "df['0'].head()\n",
    "df['0'].to_csv(\"full_copy.csv\", encoding='utf-8')"
   ]
  },
  {
   "cell_type": "code",
   "execution_count": 15,
   "metadata": {},
   "outputs": [
    {
     "data": {
      "text/html": [
       "<div>\n",
       "<style>\n",
       "    .dataframe thead tr:only-child th {\n",
       "        text-align: right;\n",
       "    }\n",
       "\n",
       "    .dataframe thead th {\n",
       "        text-align: left;\n",
       "    }\n",
       "\n",
       "    .dataframe tbody tr th {\n",
       "        vertical-align: top;\n",
       "    }\n",
       "</style>\n",
       "<table border=\"1\" class=\"dataframe\">\n",
       "  <thead>\n",
       "    <tr style=\"text-align: right;\">\n",
       "      <th></th>\n",
       "      <th>0</th>\n",
       "      <th>1</th>\n",
       "    </tr>\n",
       "  </thead>\n",
       "  <tbody>\n",
       "    <tr>\n",
       "      <th>0</th>\n",
       "      <td>0</td>\n",
       "      <td>Product: Tumba Rwanda, Brand: Corvus Coffee R...</td>\n",
       "    </tr>\n",
       "    <tr>\n",
       "      <th>1</th>\n",
       "      <td>1</td>\n",
       "      <td>Product: Tumba Rwanda, Brand: Corvus Coffee R...</td>\n",
       "    </tr>\n",
       "    <tr>\n",
       "      <th>2</th>\n",
       "      <td>2</td>\n",
       "      <td>Product: Tumba Rwanda, Brand: Corvus Coffee R...</td>\n",
       "    </tr>\n",
       "    <tr>\n",
       "      <th>3</th>\n",
       "      <td>3</td>\n",
       "      <td>Product: Mandheling Onan Ganjang, Brand: Kaka...</td>\n",
       "    </tr>\n",
       "    <tr>\n",
       "      <th>4</th>\n",
       "      <td>4</td>\n",
       "      <td>Product: Mandheling Onan Ganjang, Brand: Kaka...</td>\n",
       "    </tr>\n",
       "  </tbody>\n",
       "</table>\n",
       "</div>"
      ],
      "text/plain": [
       "   0                                                  1\n",
       "0  0   Product: Tumba Rwanda, Brand: Corvus Coffee R...\n",
       "1  1   Product: Tumba Rwanda, Brand: Corvus Coffee R...\n",
       "2  2   Product: Tumba Rwanda, Brand: Corvus Coffee R...\n",
       "3  3   Product: Mandheling Onan Ganjang, Brand: Kaka...\n",
       "4  4   Product: Mandheling Onan Ganjang, Brand: Kaka..."
      ]
     },
     "execution_count": 15,
     "metadata": {},
     "output_type": "execute_result"
    }
   ],
   "source": [
    "df_2=pd.read_csv('full_copy.csv', header=None)\n",
    "df_2.head()"
   ]
  },
  {
   "cell_type": "code",
   "execution_count": 16,
   "metadata": {},
   "outputs": [
    {
     "data": {
      "text/html": [
       "<div>\n",
       "<style>\n",
       "    .dataframe thead tr:only-child th {\n",
       "        text-align: right;\n",
       "    }\n",
       "\n",
       "    .dataframe thead th {\n",
       "        text-align: left;\n",
       "    }\n",
       "\n",
       "    .dataframe tbody tr th {\n",
       "        vertical-align: top;\n",
       "    }\n",
       "</style>\n",
       "<table border=\"1\" class=\"dataframe\">\n",
       "  <thead>\n",
       "    <tr style=\"text-align: right;\">\n",
       "      <th></th>\n",
       "      <th>1</th>\n",
       "    </tr>\n",
       "  </thead>\n",
       "  <tbody>\n",
       "    <tr>\n",
       "      <th>0</th>\n",
       "      <td>Product: Tumba Rwanda, Brand: Corvus Coffee R...</td>\n",
       "    </tr>\n",
       "    <tr>\n",
       "      <th>1</th>\n",
       "      <td>Product: Tumba Rwanda, Brand: Corvus Coffee R...</td>\n",
       "    </tr>\n",
       "    <tr>\n",
       "      <th>2</th>\n",
       "      <td>Product: Tumba Rwanda, Brand: Corvus Coffee R...</td>\n",
       "    </tr>\n",
       "    <tr>\n",
       "      <th>3</th>\n",
       "      <td>Product: Mandheling Onan Ganjang, Brand: Kaka...</td>\n",
       "    </tr>\n",
       "    <tr>\n",
       "      <th>4</th>\n",
       "      <td>Product: Mandheling Onan Ganjang, Brand: Kaka...</td>\n",
       "    </tr>\n",
       "  </tbody>\n",
       "</table>\n",
       "</div>"
      ],
      "text/plain": [
       "                                                   1\n",
       "0   Product: Tumba Rwanda, Brand: Corvus Coffee R...\n",
       "1   Product: Tumba Rwanda, Brand: Corvus Coffee R...\n",
       "2   Product: Tumba Rwanda, Brand: Corvus Coffee R...\n",
       "3   Product: Mandheling Onan Ganjang, Brand: Kaka...\n",
       "4   Product: Mandheling Onan Ganjang, Brand: Kaka..."
      ]
     },
     "execution_count": 16,
     "metadata": {},
     "output_type": "execute_result"
    }
   ],
   "source": [
    "df_new=df_2[1]\n",
    "df_new=pd.DataFrame(df_new)\n",
    "df_new.head()"
   ]
  },
  {
   "cell_type": "code",
   "execution_count": 17,
   "metadata": {},
   "outputs": [
    {
     "data": {
      "text/html": [
       "<div>\n",
       "<style>\n",
       "    .dataframe thead tr:only-child th {\n",
       "        text-align: right;\n",
       "    }\n",
       "\n",
       "    .dataframe thead th {\n",
       "        text-align: left;\n",
       "    }\n",
       "\n",
       "    .dataframe tbody tr th {\n",
       "        vertical-align: top;\n",
       "    }\n",
       "</style>\n",
       "<table border=\"1\" class=\"dataframe\">\n",
       "  <thead>\n",
       "    <tr style=\"text-align: right;\">\n",
       "      <th></th>\n",
       "      <th>1</th>\n",
       "    </tr>\n",
       "  </thead>\n",
       "  <tbody>\n",
       "    <tr>\n",
       "      <th>0</th>\n",
       "      <td>Product: Tumba Rwanda, Brand: Corvus Coffee R...</td>\n",
       "    </tr>\n",
       "    <tr>\n",
       "      <th>3</th>\n",
       "      <td>Product: Mandheling Onan Ganjang, Brand: Kaka...</td>\n",
       "    </tr>\n",
       "    <tr>\n",
       "      <th>6</th>\n",
       "      <td>Product: Burundi Nemba, Brand: Amavida Coffee...</td>\n",
       "    </tr>\n",
       "    <tr>\n",
       "      <th>9</th>\n",
       "      <td>Product: Static Peru Cajamarca, Brand: Espres...</td>\n",
       "    </tr>\n",
       "    <tr>\n",
       "      <th>12</th>\n",
       "      <td>Product: Ethiopia Banko Gotiti Natural, Brand...</td>\n",
       "    </tr>\n",
       "  </tbody>\n",
       "</table>\n",
       "</div>"
      ],
      "text/plain": [
       "                                                    1\n",
       "0    Product: Tumba Rwanda, Brand: Corvus Coffee R...\n",
       "3    Product: Mandheling Onan Ganjang, Brand: Kaka...\n",
       "6    Product: Burundi Nemba, Brand: Amavida Coffee...\n",
       "9    Product: Static Peru Cajamarca, Brand: Espres...\n",
       "12   Product: Ethiopia Banko Gotiti Natural, Brand..."
      ]
     },
     "execution_count": 17,
     "metadata": {},
     "output_type": "execute_result"
    }
   ],
   "source": [
    "# Notice that there are a lot of duplicates in the dataframe. This is due to the parser I am used in the BeautifulSoup.\n",
    "# So, we need to drop duplciates.\n",
    "\n",
    "t=df_new.drop_duplicates(subset=[1])\n",
    "t.head()"
   ]
  },
  {
   "cell_type": "code",
   "execution_count": 18,
   "metadata": {
    "collapsed": true
   },
   "outputs": [],
   "source": [
    "t.to_csv(\"coffeecleaned.csv\", encoding='utf-8')"
   ]
  },
  {
   "cell_type": "code",
   "execution_count": 19,
   "metadata": {},
   "outputs": [
    {
     "data": {
      "text/html": [
       "<div>\n",
       "<style>\n",
       "    .dataframe thead tr:only-child th {\n",
       "        text-align: right;\n",
       "    }\n",
       "\n",
       "    .dataframe thead th {\n",
       "        text-align: left;\n",
       "    }\n",
       "\n",
       "    .dataframe tbody tr th {\n",
       "        vertical-align: top;\n",
       "    }\n",
       "</style>\n",
       "<table border=\"1\" class=\"dataframe\">\n",
       "  <thead>\n",
       "    <tr style=\"text-align: right;\">\n",
       "      <th></th>\n",
       "      <th>1</th>\n",
       "    </tr>\n",
       "  </thead>\n",
       "  <tbody>\n",
       "    <tr>\n",
       "      <th>0</th>\n",
       "      <td>Product: Tumba Rwanda, Brand: Corvus Coffee R...</td>\n",
       "    </tr>\n",
       "    <tr>\n",
       "      <th>1</th>\n",
       "      <td>Product: Mandheling Onan Ganjang, Brand: Kaka...</td>\n",
       "    </tr>\n",
       "    <tr>\n",
       "      <th>2</th>\n",
       "      <td>Product: Burundi Nemba, Brand: Amavida Coffee...</td>\n",
       "    </tr>\n",
       "    <tr>\n",
       "      <th>3</th>\n",
       "      <td>Product: Static Peru Cajamarca, Brand: Espres...</td>\n",
       "    </tr>\n",
       "    <tr>\n",
       "      <th>4</th>\n",
       "      <td>Product: Ethiopia Banko Gotiti Natural, Brand...</td>\n",
       "    </tr>\n",
       "  </tbody>\n",
       "</table>\n",
       "</div>"
      ],
      "text/plain": [
       "                                                   1\n",
       "0   Product: Tumba Rwanda, Brand: Corvus Coffee R...\n",
       "1   Product: Mandheling Onan Ganjang, Brand: Kaka...\n",
       "2   Product: Burundi Nemba, Brand: Amavida Coffee...\n",
       "3   Product: Static Peru Cajamarca, Brand: Espres...\n",
       "4   Product: Ethiopia Banko Gotiti Natural, Brand..."
      ]
     },
     "execution_count": 19,
     "metadata": {},
     "output_type": "execute_result"
    }
   ],
   "source": [
    "t_new = pd.DataFrame(t.reset_index()[1])\n",
    "t_new.head()"
   ]
  },
  {
   "cell_type": "code",
   "execution_count": 20,
   "metadata": {},
   "outputs": [
    {
     "data": {
      "text/html": [
       "<div>\n",
       "<style>\n",
       "    .dataframe thead tr:only-child th {\n",
       "        text-align: right;\n",
       "    }\n",
       "\n",
       "    .dataframe thead th {\n",
       "        text-align: left;\n",
       "    }\n",
       "\n",
       "    .dataframe tbody tr th {\n",
       "        vertical-align: top;\n",
       "    }\n",
       "</style>\n",
       "<table border=\"1\" class=\"dataframe\">\n",
       "  <thead>\n",
       "    <tr style=\"text-align: right;\">\n",
       "      <th></th>\n",
       "      <th>1</th>\n",
       "      <th>product</th>\n",
       "      <th>brand</th>\n",
       "      <th>rating</th>\n",
       "      <th>assessment</th>\n",
       "      <th>note</th>\n",
       "      <th>bottomline</th>\n",
       "      <th>location</th>\n",
       "      <th>origin</th>\n",
       "      <th>roast</th>\n",
       "      <th>est_price</th>\n",
       "      <th>review_date</th>\n",
       "    </tr>\n",
       "  </thead>\n",
       "  <tbody>\n",
       "    <tr>\n",
       "      <th>0</th>\n",
       "      <td>Product: Tumba Rwanda, Brand: Corvus Coffee R...</td>\n",
       "      <td>Tumba Rwanda</td>\n",
       "      <td>Corvus Coffee Roasters</td>\n",
       "      <td>93</td>\n",
       "      <td>Resonant, sweet-savory, original. Baker\\u2019s...</td>\n",
       "      <td>From the Tumba washing station or wet mill op...</td>\n",
       "      <td>Lovely expression of the genius of Rwanda cof...</td>\n",
       "      <td>Denver, Colorado</td>\n",
       "      <td>Rwanda</td>\n",
       "      <td>Light</td>\n",
       "      <td>$15.50/12 ounces</td>\n",
       "      <td>May 2018</td>\n",
       "    </tr>\n",
       "    <tr>\n",
       "      <th>1</th>\n",
       "      <td>Product: Mandheling Onan Ganjang, Brand: Kaka...</td>\n",
       "      <td>Mandheling Onan Ganjang</td>\n",
       "      <td>Kakalove Cafe</td>\n",
       "      <td>94</td>\n",
       "      <td>Deeply sweet, richly earth-toned. Dark chocola...</td>\n",
       "      <td>Produced in the Lintong region south of Lake...</td>\n",
       "      <td>A sweet yet umami-leaning Sumatra cup (think ...</td>\n",
       "      <td>Chia-Yi, Taiwan</td>\n",
       "      <td>Lintong growing region, North Sumatra Provinc...</td>\n",
       "      <td>Medium-Light</td>\n",
       "      <td>NT $550/16 ounces</td>\n",
       "      <td>May 2018</td>\n",
       "    </tr>\n",
       "    <tr>\n",
       "      <th>2</th>\n",
       "      <td>Product: Burundi Nemba, Brand: Amavida Coffee...</td>\n",
       "      <td>Burundi Nemba</td>\n",
       "      <td>Amavida Coffee Roasters</td>\n",
       "      <td>93</td>\n",
       "      <td>Delicately rich, vibrantly sweet-savory. Wiste...</td>\n",
       "      <td>Burundi is a small, landlocked country in th...</td>\n",
       "      <td>A floral- and spice-toned Burundi cup, simult...</td>\n",
       "      <td>Santa Rosa Beach, Florida</td>\n",
       "      <td>Kayanza, Kabuye, Burundi</td>\n",
       "      <td>Medium-Light</td>\n",
       "      <td>$16.95/12 ounces</td>\n",
       "      <td>May 2018</td>\n",
       "    </tr>\n",
       "    <tr>\n",
       "      <th>3</th>\n",
       "      <td>Product: Static Peru Cajamarca, Brand: Espres...</td>\n",
       "      <td>Static Peru Cajamarca</td>\n",
       "      <td>Espresso Republic</td>\n",
       "      <td>89</td>\n",
       "      <td>Quietly and delicately crisp. Candied walnut, ...</td>\n",
       "      <td>From Cenfrocafe Cooperative in northern Peru....</td>\n",
       "      <td>A delicately brisk, sweetly nut-toned variati...</td>\n",
       "      <td>Chino, California</td>\n",
       "      <td>Per</td>\n",
       "      <td>Medium-Light</td>\n",
       "      <td>$12.00/12 ounces</td>\n",
       "      <td>April 2018</td>\n",
       "    </tr>\n",
       "    <tr>\n",
       "      <th>4</th>\n",
       "      <td>Product: Ethiopia Banko Gotiti Natural, Brand...</td>\n",
       "      <td>Ethiopia Banko Gotiti Natural</td>\n",
       "      <td>Coffee Please</td>\n",
       "      <td>94</td>\n",
       "      <td>High-toned, deeply sweet. Honeysuckle, blackbe...</td>\n",
       "      <td>Southern Ethiopia coffees like this one are p...</td>\n",
       "      <td>A brightly sweet, crisply tart natural-proces...</td>\n",
       "      <td>Taipei, Taiwan</td>\n",
       "      <td>Yirgacheffe growing region, south-central Eth...</td>\n",
       "      <td>Light</td>\n",
       "      <td>NT $700/16 ounces</td>\n",
       "      <td>April 2018</td>\n",
       "    </tr>\n",
       "  </tbody>\n",
       "</table>\n",
       "</div>"
      ],
      "text/plain": [
       "                                                   1  \\\n",
       "0   Product: Tumba Rwanda, Brand: Corvus Coffee R...   \n",
       "1   Product: Mandheling Onan Ganjang, Brand: Kaka...   \n",
       "2   Product: Burundi Nemba, Brand: Amavida Coffee...   \n",
       "3   Product: Static Peru Cajamarca, Brand: Espres...   \n",
       "4   Product: Ethiopia Banko Gotiti Natural, Brand...   \n",
       "\n",
       "                          product                    brand rating  \\\n",
       "0                    Tumba Rwanda   Corvus Coffee Roasters     93   \n",
       "1         Mandheling Onan Ganjang            Kakalove Cafe     94   \n",
       "2                   Burundi Nemba  Amavida Coffee Roasters     93   \n",
       "3           Static Peru Cajamarca        Espresso Republic     89   \n",
       "4   Ethiopia Banko Gotiti Natural            Coffee Please     94   \n",
       "\n",
       "                                          assessment  \\\n",
       "0  Resonant, sweet-savory, original. Baker\\u2019s...   \n",
       "1  Deeply sweet, richly earth-toned. Dark chocola...   \n",
       "2  Delicately rich, vibrantly sweet-savory. Wiste...   \n",
       "3  Quietly and delicately crisp. Candied walnut, ...   \n",
       "4  High-toned, deeply sweet. Honeysuckle, blackbe...   \n",
       "\n",
       "                                                note  \\\n",
       "0   From the Tumba washing station or wet mill op...   \n",
       "1    Produced in the Lintong region south of Lake...   \n",
       "2    Burundi is a small, landlocked country in th...   \n",
       "3   From Cenfrocafe Cooperative in northern Peru....   \n",
       "4   Southern Ethiopia coffees like this one are p...   \n",
       "\n",
       "                                          bottomline  \\\n",
       "0   Lovely expression of the genius of Rwanda cof...   \n",
       "1   A sweet yet umami-leaning Sumatra cup (think ...   \n",
       "2   A floral- and spice-toned Burundi cup, simult...   \n",
       "3   A delicately brisk, sweetly nut-toned variati...   \n",
       "4   A brightly sweet, crisply tart natural-proces...   \n",
       "\n",
       "                     location  \\\n",
       "0            Denver, Colorado   \n",
       "1             Chia-Yi, Taiwan   \n",
       "2   Santa Rosa Beach, Florida   \n",
       "3           Chino, California   \n",
       "4              Taipei, Taiwan   \n",
       "\n",
       "                                              origin          roast  \\\n",
       "0                                             Rwanda          Light   \n",
       "1   Lintong growing region, North Sumatra Provinc...   Medium-Light   \n",
       "2                           Kayanza, Kabuye, Burundi   Medium-Light   \n",
       "3                                                Per   Medium-Light   \n",
       "4   Yirgacheffe growing region, south-central Eth...          Light   \n",
       "\n",
       "            est_price  review_date  \n",
       "0    $15.50/12 ounces     May 2018  \n",
       "1   NT $550/16 ounces     May 2018  \n",
       "2    $16.95/12 ounces     May 2018  \n",
       "3    $12.00/12 ounces   April 2018  \n",
       "4   NT $700/16 ounces   April 2018  "
      ]
     },
     "execution_count": 20,
     "metadata": {},
     "output_type": "execute_result"
    }
   ],
   "source": [
    "t1=t_new[1].str.split('Product:|u\"Product:', expand=True)\n",
    "t2=t1[1].str.split(', Brand: |, u\"Brand:', expand=True)\n",
    "t_new['product']=t2[0]\n",
    "t3=t2[1].str.split(', Rating: |, u\"Rating:', expand=True)\n",
    "t_new['brand']=t3[0]\n",
    "t4=t3[1].str.split(', Assessment: |, u\"Assessment:', expand=True)\n",
    "t_new['rating']=t4[0]\n",
    "t5=t4[1].str.split(', Notes:|, u\"Notes:', expand=True)\n",
    "t_new['assessment']=t5[0]\n",
    "t6=t5[1].str.split(', The Bottom Line:|, u\"The Bottom Line:|, Who Should Drink It:|, u\"Who Should Drink It:', expand=True)\n",
    "t_new['note']=t6[0]\n",
    "t7=t6[1].str.split(', Location:|, u\"Location:|Location:', expand=True)\n",
    "t_new['bottomline']=t7[0]\n",
    "t8=t7[1].str.split(', Origin:|, u\"Origin:', expand=True)\n",
    "t_new['location']=t8[0]\n",
    "t9=t8[1].str.split(', Roast:|, u\"Roast:', expand=True)\n",
    "t_new['origin']=t9[0]\n",
    "t10=t9[1].str.split(', Est. Price:| , u\"Est. Price: ', expand=True)\n",
    "t_new['roast']=t10[0]\n",
    "t11=t10[1].str.split(', Review Date:| , u\"Review Date: ', expand=True)\n",
    "t_new['est_price']=t11[0]\n",
    "t12=t11[1].str.split(', Agtron:| , u\"Agtron: ', expand=True)\n",
    "t_new['review_date']=t12[0]\n",
    "t_new.head()"
   ]
  },
  {
   "cell_type": "markdown",
   "metadata": {},
   "source": [
    "** Now, deal with the coffee characteristics: **"
   ]
  },
  {
   "cell_type": "code",
   "execution_count": 21,
   "metadata": {
    "collapsed": true
   },
   "outputs": [],
   "source": [
    "#agtron\n",
    "t_new['agtron']=t_new[1].str.extract('Agtron: (\\d+\\/\\d+)',expand=False)\n",
    "t_new['agtron_wholebean']=t_new[1].str.extract('Agtron: (\\d+)',expand=False)\n",
    "t_new['agtron_ground']=t_new['agtron'].str.extract('/(\\d+)',expand=False)"
   ]
  },
  {
   "cell_type": "markdown",
   "metadata": {},
   "source": [
    "* Agtron uses “near-infrared abridged Spectrophotometers” to reflect light on a sample of coffee in order to assign a specific value, which we read as a number. The smaller the number, the darker the roast. The two numbers represent the whole bean and ground color value for each coffee.  (See : http://www.coffeereview.com/agtron-numerology/)"
   ]
  },
  {
   "cell_type": "code",
   "execution_count": 22,
   "metadata": {
    "collapsed": true
   },
   "outputs": [],
   "source": [
    "# other characteristics: acidity, aroma, body, flavor, aftertaste, and with milk.\n",
    "t_new['acidity']=t_new[1].str.extract('Acidity:|Acidity/Structure: (\\d+)?',expand=False)\n",
    "t_new['aroma']=t_new[1].str.extract('Aroma: (\\d+)?',expand=False)\n",
    "t_new['body']=t_new[1].str.extract('Body: (\\d+)?',expand=False)\n",
    "t_new['flavor']=t_new[1].str.extract('Flavor: (\\d+)?',expand=False)\n",
    "t_new['aftertaste']=t_new[1].str.extract('Aftertaste: (\\d+)?',expand=False)\n",
    "t_new['withmilk']=t_new[1].str.extract('With Milk: (\\d+)?',expand=False)"
   ]
  },
  {
   "cell_type": "code",
   "execution_count": 23,
   "metadata": {
    "collapsed": true
   },
   "outputs": [],
   "source": [
    "# rating, link and review date of coffee\n",
    "t_new['rating']=t_new[1].str.extract('Rating: (\\d+)',expand=False)\n",
    "t_new['link']=t_new['note'].str.contains('https|www|for more information| For more information| Call|call')\n",
    "t_new['review_year']=t_new['review_date'].str.extract('(\\d+)',expand=False)"
   ]
  },
  {
   "cell_type": "code",
   "execution_count": 24,
   "metadata": {
    "collapsed": true
   },
   "outputs": [],
   "source": [
    "#save to a new csv\n",
    "t_new.to_csv(\"coffeecleaned_temp.csv\", encoding='utf-8')"
   ]
  },
  {
   "cell_type": "code",
   "execution_count": 25,
   "metadata": {
    "collapsed": true
   },
   "outputs": [],
   "source": [
    "t_new = pd.read_csv('coffeecleaned_temp.csv')# often works"
   ]
  },
  {
   "cell_type": "code",
   "execution_count": 26,
   "metadata": {},
   "outputs": [
    {
     "data": {
      "text/plain": [
       "(4860, 24)"
      ]
     },
     "execution_count": 26,
     "metadata": {},
     "output_type": "execute_result"
    }
   ],
   "source": [
    "t_new.shape"
   ]
  },
  {
   "cell_type": "markdown",
   "metadata": {},
   "source": [
    "* There are 4860 kinds of coffee in this sample."
   ]
  },
  {
   "cell_type": "markdown",
   "metadata": {},
   "source": [
    "### Group by rating cutoffs and location"
   ]
  },
  {
   "cell_type": "code",
   "execution_count": 27,
   "metadata": {
    "collapsed": true
   },
   "outputs": [],
   "source": [
    "# Set up rating cutoff by coffee review's rating system in the above.\n",
    "t_new['rating']=t_new['rating'].astype(float)\n",
    "t_new['rating_cutoff']=pd.cut(t_new.rating,[0, 80, 85, 88, 90, 92, 94, 96, 100], right=False)"
   ]
  },
  {
   "cell_type": "code",
   "execution_count": 28,
   "metadata": {},
   "outputs": [
    {
     "data": {
      "text/html": [
       "<div>\n",
       "<style>\n",
       "    .dataframe thead tr:only-child th {\n",
       "        text-align: right;\n",
       "    }\n",
       "\n",
       "    .dataframe thead th {\n",
       "        text-align: left;\n",
       "    }\n",
       "\n",
       "    .dataframe tbody tr th {\n",
       "        vertical-align: top;\n",
       "    }\n",
       "</style>\n",
       "<table border=\"1\" class=\"dataframe\">\n",
       "  <thead>\n",
       "    <tr style=\"text-align: right;\">\n",
       "      <th></th>\n",
       "      <th>Unnamed: 0</th>\n",
       "      <th>1</th>\n",
       "      <th>product</th>\n",
       "      <th>brand</th>\n",
       "      <th>rating</th>\n",
       "      <th>assessment</th>\n",
       "      <th>note</th>\n",
       "      <th>bottomline</th>\n",
       "      <th>location</th>\n",
       "      <th>origin</th>\n",
       "      <th>...</th>\n",
       "      <th>agtron_ground</th>\n",
       "      <th>acidity</th>\n",
       "      <th>aroma</th>\n",
       "      <th>body</th>\n",
       "      <th>flavor</th>\n",
       "      <th>aftertaste</th>\n",
       "      <th>withmilk</th>\n",
       "      <th>link</th>\n",
       "      <th>review_year</th>\n",
       "      <th>rating_cutoff</th>\n",
       "    </tr>\n",
       "  </thead>\n",
       "  <tbody>\n",
       "    <tr>\n",
       "      <th>0</th>\n",
       "      <td>0</td>\n",
       "      <td>Product: Tumba Rwanda, Brand: Corvus Coffee R...</td>\n",
       "      <td>Tumba Rwanda</td>\n",
       "      <td>Corvus Coffee Roasters</td>\n",
       "      <td>93.0</td>\n",
       "      <td>Resonant, sweet-savory, original. Baker\\u2019s...</td>\n",
       "      <td>From the Tumba washing station or wet mill op...</td>\n",
       "      <td>Lovely expression of the genius of Rwanda cof...</td>\n",
       "      <td>Denver, Colorado</td>\n",
       "      <td>Rwanda</td>\n",
       "      <td>...</td>\n",
       "      <td>84.0</td>\n",
       "      <td>9.0</td>\n",
       "      <td>9.0</td>\n",
       "      <td>9.0</td>\n",
       "      <td>9.0</td>\n",
       "      <td>7.0</td>\n",
       "      <td>NaN</td>\n",
       "      <td>True</td>\n",
       "      <td>2018.0</td>\n",
       "      <td>[92, 94)</td>\n",
       "    </tr>\n",
       "    <tr>\n",
       "      <th>1</th>\n",
       "      <td>1</td>\n",
       "      <td>Product: Mandheling Onan Ganjang, Brand: Kaka...</td>\n",
       "      <td>Mandheling Onan Ganjang</td>\n",
       "      <td>Kakalove Cafe</td>\n",
       "      <td>94.0</td>\n",
       "      <td>Deeply sweet, richly earth-toned. Dark chocola...</td>\n",
       "      <td>Produced in the Lintong region south of Lake...</td>\n",
       "      <td>A sweet yet umami-leaning Sumatra cup (think ...</td>\n",
       "      <td>Chia-Yi, Taiwan</td>\n",
       "      <td>Lintong growing region, North Sumatra Provinc...</td>\n",
       "      <td>...</td>\n",
       "      <td>77.0</td>\n",
       "      <td>9.0</td>\n",
       "      <td>9.0</td>\n",
       "      <td>9.0</td>\n",
       "      <td>9.0</td>\n",
       "      <td>8.0</td>\n",
       "      <td>NaN</td>\n",
       "      <td>True</td>\n",
       "      <td>2018.0</td>\n",
       "      <td>[94, 96)</td>\n",
       "    </tr>\n",
       "    <tr>\n",
       "      <th>2</th>\n",
       "      <td>2</td>\n",
       "      <td>Product: Burundi Nemba, Brand: Amavida Coffee...</td>\n",
       "      <td>Burundi Nemba</td>\n",
       "      <td>Amavida Coffee Roasters</td>\n",
       "      <td>93.0</td>\n",
       "      <td>Delicately rich, vibrantly sweet-savory. Wiste...</td>\n",
       "      <td>Burundi is a small, landlocked country in th...</td>\n",
       "      <td>A floral- and spice-toned Burundi cup, simult...</td>\n",
       "      <td>Santa Rosa Beach, Florida</td>\n",
       "      <td>Kayanza, Kabuye, Burundi</td>\n",
       "      <td>...</td>\n",
       "      <td>80.0</td>\n",
       "      <td>8.0</td>\n",
       "      <td>9.0</td>\n",
       "      <td>9.0</td>\n",
       "      <td>9.0</td>\n",
       "      <td>8.0</td>\n",
       "      <td>NaN</td>\n",
       "      <td>True</td>\n",
       "      <td>2018.0</td>\n",
       "      <td>[92, 94)</td>\n",
       "    </tr>\n",
       "    <tr>\n",
       "      <th>3</th>\n",
       "      <td>3</td>\n",
       "      <td>Product: Static Peru Cajamarca, Brand: Espres...</td>\n",
       "      <td>Static Peru Cajamarca</td>\n",
       "      <td>Espresso Republic</td>\n",
       "      <td>89.0</td>\n",
       "      <td>Quietly and delicately crisp. Candied walnut, ...</td>\n",
       "      <td>From Cenfrocafe Cooperative in northern Peru....</td>\n",
       "      <td>A delicately brisk, sweetly nut-toned variati...</td>\n",
       "      <td>Chino, California</td>\n",
       "      <td>Per</td>\n",
       "      <td>...</td>\n",
       "      <td>75.0</td>\n",
       "      <td>8.0</td>\n",
       "      <td>8.0</td>\n",
       "      <td>8.0</td>\n",
       "      <td>8.0</td>\n",
       "      <td>7.0</td>\n",
       "      <td>NaN</td>\n",
       "      <td>True</td>\n",
       "      <td>2018.0</td>\n",
       "      <td>[88, 90)</td>\n",
       "    </tr>\n",
       "    <tr>\n",
       "      <th>4</th>\n",
       "      <td>4</td>\n",
       "      <td>Product: Ethiopia Banko Gotiti Natural, Brand...</td>\n",
       "      <td>Ethiopia Banko Gotiti Natural</td>\n",
       "      <td>Coffee Please</td>\n",
       "      <td>94.0</td>\n",
       "      <td>High-toned, deeply sweet. Honeysuckle, blackbe...</td>\n",
       "      <td>Southern Ethiopia coffees like this one are p...</td>\n",
       "      <td>A brightly sweet, crisply tart natural-proces...</td>\n",
       "      <td>Taipei, Taiwan</td>\n",
       "      <td>Yirgacheffe growing region, south-central Eth...</td>\n",
       "      <td>...</td>\n",
       "      <td>84.0</td>\n",
       "      <td>9.0</td>\n",
       "      <td>9.0</td>\n",
       "      <td>9.0</td>\n",
       "      <td>9.0</td>\n",
       "      <td>8.0</td>\n",
       "      <td>NaN</td>\n",
       "      <td>True</td>\n",
       "      <td>2018.0</td>\n",
       "      <td>[94, 96)</td>\n",
       "    </tr>\n",
       "  </tbody>\n",
       "</table>\n",
       "<p>5 rows × 25 columns</p>\n",
       "</div>"
      ],
      "text/plain": [
       "   Unnamed: 0                                                  1  \\\n",
       "0           0   Product: Tumba Rwanda, Brand: Corvus Coffee R...   \n",
       "1           1   Product: Mandheling Onan Ganjang, Brand: Kaka...   \n",
       "2           2   Product: Burundi Nemba, Brand: Amavida Coffee...   \n",
       "3           3   Product: Static Peru Cajamarca, Brand: Espres...   \n",
       "4           4   Product: Ethiopia Banko Gotiti Natural, Brand...   \n",
       "\n",
       "                          product                    brand  rating  \\\n",
       "0                    Tumba Rwanda   Corvus Coffee Roasters    93.0   \n",
       "1         Mandheling Onan Ganjang            Kakalove Cafe    94.0   \n",
       "2                   Burundi Nemba  Amavida Coffee Roasters    93.0   \n",
       "3           Static Peru Cajamarca        Espresso Republic    89.0   \n",
       "4   Ethiopia Banko Gotiti Natural            Coffee Please    94.0   \n",
       "\n",
       "                                          assessment  \\\n",
       "0  Resonant, sweet-savory, original. Baker\\u2019s...   \n",
       "1  Deeply sweet, richly earth-toned. Dark chocola...   \n",
       "2  Delicately rich, vibrantly sweet-savory. Wiste...   \n",
       "3  Quietly and delicately crisp. Candied walnut, ...   \n",
       "4  High-toned, deeply sweet. Honeysuckle, blackbe...   \n",
       "\n",
       "                                                note  \\\n",
       "0   From the Tumba washing station or wet mill op...   \n",
       "1    Produced in the Lintong region south of Lake...   \n",
       "2    Burundi is a small, landlocked country in th...   \n",
       "3   From Cenfrocafe Cooperative in northern Peru....   \n",
       "4   Southern Ethiopia coffees like this one are p...   \n",
       "\n",
       "                                          bottomline  \\\n",
       "0   Lovely expression of the genius of Rwanda cof...   \n",
       "1   A sweet yet umami-leaning Sumatra cup (think ...   \n",
       "2   A floral- and spice-toned Burundi cup, simult...   \n",
       "3   A delicately brisk, sweetly nut-toned variati...   \n",
       "4   A brightly sweet, crisply tart natural-proces...   \n",
       "\n",
       "                     location  \\\n",
       "0            Denver, Colorado   \n",
       "1             Chia-Yi, Taiwan   \n",
       "2   Santa Rosa Beach, Florida   \n",
       "3           Chino, California   \n",
       "4              Taipei, Taiwan   \n",
       "\n",
       "                                              origin      ...        \\\n",
       "0                                             Rwanda      ...         \n",
       "1   Lintong growing region, North Sumatra Provinc...      ...         \n",
       "2                           Kayanza, Kabuye, Burundi      ...         \n",
       "3                                                Per      ...         \n",
       "4   Yirgacheffe growing region, south-central Eth...      ...         \n",
       "\n",
       "  agtron_ground acidity aroma body  flavor  aftertaste  withmilk  link  \\\n",
       "0          84.0     9.0   9.0  9.0     9.0         7.0       NaN  True   \n",
       "1          77.0     9.0   9.0  9.0     9.0         8.0       NaN  True   \n",
       "2          80.0     8.0   9.0  9.0     9.0         8.0       NaN  True   \n",
       "3          75.0     8.0   8.0  8.0     8.0         7.0       NaN  True   \n",
       "4          84.0     9.0   9.0  9.0     9.0         8.0       NaN  True   \n",
       "\n",
       "   review_year  rating_cutoff  \n",
       "0       2018.0       [92, 94)  \n",
       "1       2018.0       [94, 96)  \n",
       "2       2018.0       [92, 94)  \n",
       "3       2018.0       [88, 90)  \n",
       "4       2018.0       [94, 96)  \n",
       "\n",
       "[5 rows x 25 columns]"
      ]
     },
     "execution_count": 28,
     "metadata": {},
     "output_type": "execute_result"
    }
   ],
   "source": [
    "t_new.head()"
   ]
  },
  {
   "cell_type": "markdown",
   "metadata": {},
   "source": [
    "## Descriptive Analytics"
   ]
  },
  {
   "cell_type": "code",
   "execution_count": 29,
   "metadata": {},
   "outputs": [
    {
     "data": {
      "text/html": [
       "<div>\n",
       "<style>\n",
       "    .dataframe thead tr:only-child th {\n",
       "        text-align: right;\n",
       "    }\n",
       "\n",
       "    .dataframe thead th {\n",
       "        text-align: left;\n",
       "    }\n",
       "\n",
       "    .dataframe tbody tr th {\n",
       "        vertical-align: top;\n",
       "    }\n",
       "</style>\n",
       "<table border=\"1\" class=\"dataframe\">\n",
       "  <thead>\n",
       "    <tr style=\"text-align: right;\">\n",
       "      <th></th>\n",
       "      <th>Unnamed: 0</th>\n",
       "      <th>rating</th>\n",
       "      <th>agtron_wholebean</th>\n",
       "      <th>agtron_ground</th>\n",
       "      <th>acidity</th>\n",
       "      <th>aroma</th>\n",
       "      <th>body</th>\n",
       "      <th>flavor</th>\n",
       "      <th>aftertaste</th>\n",
       "      <th>withmilk</th>\n",
       "      <th>review_year</th>\n",
       "    </tr>\n",
       "  </thead>\n",
       "  <tbody>\n",
       "    <tr>\n",
       "      <th>count</th>\n",
       "      <td>4860.000000</td>\n",
       "      <td>4855.000000</td>\n",
       "      <td>4508.000000</td>\n",
       "      <td>4504.000000</td>\n",
       "      <td>236.000000</td>\n",
       "      <td>4833.000000</td>\n",
       "      <td>4846.000000</td>\n",
       "      <td>4841.000000</td>\n",
       "      <td>3851.000000</td>\n",
       "      <td>638.000000</td>\n",
       "      <td>4850.000000</td>\n",
       "    </tr>\n",
       "    <tr>\n",
       "      <th>mean</th>\n",
       "      <td>2429.500000</td>\n",
       "      <td>89.750566</td>\n",
       "      <td>46.753549</td>\n",
       "      <td>63.225355</td>\n",
       "      <td>8.440678</td>\n",
       "      <td>8.110077</td>\n",
       "      <td>7.828312</td>\n",
       "      <td>8.177236</td>\n",
       "      <td>7.905998</td>\n",
       "      <td>8.253918</td>\n",
       "      <td>2009.646598</td>\n",
       "    </tr>\n",
       "    <tr>\n",
       "      <th>std</th>\n",
       "      <td>1403.105484</td>\n",
       "      <td>4.590951</td>\n",
       "      <td>15.537919</td>\n",
       "      <td>16.505776</td>\n",
       "      <td>0.576746</td>\n",
       "      <td>1.030921</td>\n",
       "      <td>0.915090</td>\n",
       "      <td>1.134173</td>\n",
       "      <td>0.783593</td>\n",
       "      <td>0.765079</td>\n",
       "      <td>5.629487</td>\n",
       "    </tr>\n",
       "    <tr>\n",
       "      <th>min</th>\n",
       "      <td>0.000000</td>\n",
       "      <td>52.000000</td>\n",
       "      <td>0.000000</td>\n",
       "      <td>0.000000</td>\n",
       "      <td>7.000000</td>\n",
       "      <td>2.000000</td>\n",
       "      <td>4.000000</td>\n",
       "      <td>1.000000</td>\n",
       "      <td>2.000000</td>\n",
       "      <td>5.000000</td>\n",
       "      <td>1997.000000</td>\n",
       "    </tr>\n",
       "    <tr>\n",
       "      <th>25%</th>\n",
       "      <td>1214.750000</td>\n",
       "      <td>88.000000</td>\n",
       "      <td>43.000000</td>\n",
       "      <td>54.000000</td>\n",
       "      <td>8.000000</td>\n",
       "      <td>8.000000</td>\n",
       "      <td>7.000000</td>\n",
       "      <td>8.000000</td>\n",
       "      <td>8.000000</td>\n",
       "      <td>8.000000</td>\n",
       "      <td>2006.000000</td>\n",
       "    </tr>\n",
       "    <tr>\n",
       "      <th>50%</th>\n",
       "      <td>2429.500000</td>\n",
       "      <td>91.000000</td>\n",
       "      <td>51.000000</td>\n",
       "      <td>65.000000</td>\n",
       "      <td>8.000000</td>\n",
       "      <td>8.000000</td>\n",
       "      <td>8.000000</td>\n",
       "      <td>8.000000</td>\n",
       "      <td>8.000000</td>\n",
       "      <td>8.000000</td>\n",
       "      <td>2011.000000</td>\n",
       "    </tr>\n",
       "    <tr>\n",
       "      <th>75%</th>\n",
       "      <td>3644.250000</td>\n",
       "      <td>93.000000</td>\n",
       "      <td>56.000000</td>\n",
       "      <td>75.000000</td>\n",
       "      <td>9.000000</td>\n",
       "      <td>9.000000</td>\n",
       "      <td>8.000000</td>\n",
       "      <td>9.000000</td>\n",
       "      <td>8.000000</td>\n",
       "      <td>9.000000</td>\n",
       "      <td>2014.000000</td>\n",
       "    </tr>\n",
       "    <tr>\n",
       "      <th>max</th>\n",
       "      <td>4859.000000</td>\n",
       "      <td>97.000000</td>\n",
       "      <td>86.000000</td>\n",
       "      <td>102.000000</td>\n",
       "      <td>10.000000</td>\n",
       "      <td>10.000000</td>\n",
       "      <td>10.000000</td>\n",
       "      <td>10.000000</td>\n",
       "      <td>10.000000</td>\n",
       "      <td>10.000000</td>\n",
       "      <td>2018.000000</td>\n",
       "    </tr>\n",
       "  </tbody>\n",
       "</table>\n",
       "</div>"
      ],
      "text/plain": [
       "        Unnamed: 0       rating  agtron_wholebean  agtron_ground     acidity  \\\n",
       "count  4860.000000  4855.000000       4508.000000    4504.000000  236.000000   \n",
       "mean   2429.500000    89.750566         46.753549      63.225355    8.440678   \n",
       "std    1403.105484     4.590951         15.537919      16.505776    0.576746   \n",
       "min       0.000000    52.000000          0.000000       0.000000    7.000000   \n",
       "25%    1214.750000    88.000000         43.000000      54.000000    8.000000   \n",
       "50%    2429.500000    91.000000         51.000000      65.000000    8.000000   \n",
       "75%    3644.250000    93.000000         56.000000      75.000000    9.000000   \n",
       "max    4859.000000    97.000000         86.000000     102.000000   10.000000   \n",
       "\n",
       "             aroma         body       flavor   aftertaste    withmilk  \\\n",
       "count  4833.000000  4846.000000  4841.000000  3851.000000  638.000000   \n",
       "mean      8.110077     7.828312     8.177236     7.905998    8.253918   \n",
       "std       1.030921     0.915090     1.134173     0.783593    0.765079   \n",
       "min       2.000000     4.000000     1.000000     2.000000    5.000000   \n",
       "25%       8.000000     7.000000     8.000000     8.000000    8.000000   \n",
       "50%       8.000000     8.000000     8.000000     8.000000    8.000000   \n",
       "75%       9.000000     8.000000     9.000000     8.000000    9.000000   \n",
       "max      10.000000    10.000000    10.000000    10.000000   10.000000   \n",
       "\n",
       "       review_year  \n",
       "count  4850.000000  \n",
       "mean   2009.646598  \n",
       "std       5.629487  \n",
       "min    1997.000000  \n",
       "25%    2006.000000  \n",
       "50%    2011.000000  \n",
       "75%    2014.000000  \n",
       "max    2018.000000  "
      ]
     },
     "execution_count": 29,
     "metadata": {},
     "output_type": "execute_result"
    }
   ],
   "source": [
    "t_new.describe()"
   ]
  },
  {
   "cell_type": "markdown",
   "metadata": {},
   "source": [
    "### Descriptive Analytics for coffee characteristics"
   ]
  },
  {
   "cell_type": "code",
   "execution_count": 31,
   "metadata": {},
   "outputs": [
    {
     "name": "stdout",
     "output_type": "stream",
     "text": [
      "Means of the ratings of coffee characteristics (full sample):\n"
     ]
    },
    {
     "data": {
      "text/plain": [
       "agtron_wholebean    46.753549\n",
       "agtron_ground       63.225355\n",
       "acidity              8.440678\n",
       "aroma                8.110077\n",
       "body                 7.828312\n",
       "flavor               8.177236\n",
       "aftertaste           7.905998\n",
       "withmilk             8.253918\n",
       "dtype: float64"
      ]
     },
     "execution_count": 31,
     "metadata": {},
     "output_type": "execute_result"
    }
   ],
   "source": [
    "# Display the averages of the ratings of coffee characteristics\n",
    "sum_row=t_new[['agtron_wholebean','agtron_ground','acidity','aroma','body','flavor','aftertaste','withmilk']].mean()\n",
    "print (\"Means of the ratings of coffee characteristics (full sample):\")\n",
    "sum_row"
   ]
  },
  {
   "cell_type": "code",
   "execution_count": 32,
   "metadata": {},
   "outputs": [
    {
     "data": {
      "text/plain": [
       "rating_cutoff\n",
       "[0, 80)      5.612150\n",
       "[80, 85)     6.679365\n",
       "[85, 88)     7.376623\n",
       "[88, 90)     7.860927\n",
       "[90, 92)     8.220716\n",
       "[92, 94)     8.665011\n",
       "[94, 96)     8.971338\n",
       "[96, 100)    9.287356\n",
       "Name: aroma, dtype: float64"
      ]
     },
     "execution_count": 32,
     "metadata": {},
     "output_type": "execute_result"
    }
   ],
   "source": [
    "# Display the averages of aroma by rating cutoffs:\n",
    "t_new['aroma']=t_new['aroma'].astype(float)\n",
    "t_new.groupby('rating_cutoff')['aroma'].mean()"
   ]
  },
  {
   "cell_type": "code",
   "execution_count": 33,
   "metadata": {},
   "outputs": [
    {
     "data": {
      "text/plain": [
       "rating_cutoff\n",
       "[0, 80)           NaN\n",
       "[80, 85)          NaN\n",
       "[85, 88)     7.000000\n",
       "[88, 90)     7.500000\n",
       "[90, 92)     7.961538\n",
       "[92, 94)     8.210084\n",
       "[94, 96)     8.973684\n",
       "[96, 100)    9.250000\n",
       "Name: acidity, dtype: float64"
      ]
     },
     "execution_count": 33,
     "metadata": {},
     "output_type": "execute_result"
    }
   ],
   "source": [
    "# Display the averages of acidity by rating cutoffs:\n",
    "t_new['acidity']=t_new['acidity'].astype(float)\n",
    "t_new.groupby('rating_cutoff')['acidity'].mean()"
   ]
  },
  {
   "cell_type": "code",
   "execution_count": 34,
   "metadata": {},
   "outputs": [
    {
     "data": {
      "text/plain": [
       "rating_cutoff\n",
       "[0, 80)      6.083721\n",
       "[80, 85)     6.631746\n",
       "[85, 88)     7.183673\n",
       "[88, 90)     7.550247\n",
       "[90, 92)     7.891892\n",
       "[92, 94)     8.283086\n",
       "[94, 96)     8.606349\n",
       "[96, 100)    8.712644\n",
       "Name: body, dtype: float64"
      ]
     },
     "execution_count": 34,
     "metadata": {},
     "output_type": "execute_result"
    }
   ],
   "source": [
    "# Display the averages of body by rating cutoffs:\n",
    "t_new['body']=t_new['body'].astype(float)\n",
    "t_new.groupby('rating_cutoff')['body'].mean()"
   ]
  },
  {
   "cell_type": "code",
   "execution_count": 35,
   "metadata": {},
   "outputs": [
    {
     "data": {
      "text/plain": [
       "rating_cutoff\n",
       "[0, 80)      25.910569\n",
       "[80, 85)     30.478448\n",
       "[85, 88)     29.984410\n",
       "[88, 90)     39.798246\n",
       "[90, 92)     49.200395\n",
       "[92, 94)     53.660014\n",
       "[94, 96)     54.743631\n",
       "[96, 100)    54.413793\n",
       "Name: agtron_wholebean, dtype: float64"
      ]
     },
     "execution_count": 35,
     "metadata": {},
     "output_type": "execute_result"
    }
   ],
   "source": [
    "# Display the averages of agtron_wholebean by rating cutoffs:\n",
    "t_new['agtron_wholebean']=t_new['agtron_wholebean'].astype(float)\n",
    "t_new.groupby('rating_cutoff')['agtron_wholebean'].mean()"
   ]
  },
  {
   "cell_type": "code",
   "execution_count": 36,
   "metadata": {},
   "outputs": [
    {
     "data": {
      "text/plain": [
       "rating_cutoff\n",
       "[0, 80)      43.666667\n",
       "[80, 85)     42.360870\n",
       "[85, 88)     46.804009\n",
       "[88, 90)     54.966667\n",
       "[90, 92)     64.378458\n",
       "[92, 94)     70.952924\n",
       "[94, 96)     73.463376\n",
       "[96, 100)    73.620690\n",
       "Name: agtron_ground, dtype: float64"
      ]
     },
     "execution_count": 36,
     "metadata": {},
     "output_type": "execute_result"
    }
   ],
   "source": [
    "# Display the averages of agtron_ground by rating cutoffs:\n",
    "t_new['agtron_ground']=t_new['agtron_ground'].astype(float)\n",
    "t_new.groupby('rating_cutoff')['agtron_ground'].mean()"
   ]
  },
  {
   "cell_type": "code",
   "execution_count": 37,
   "metadata": {},
   "outputs": [
    {
     "data": {
      "text/plain": [
       "rating_cutoff\n",
       "[0, 80)      4.962085\n",
       "[80, 85)     6.465190\n",
       "[85, 88)     7.352505\n",
       "[88, 90)     7.881384\n",
       "[90, 92)     8.346228\n",
       "[92, 94)     8.874027\n",
       "[94, 96)     9.068254\n",
       "[96, 100)    9.701149\n",
       "Name: flavor, dtype: float64"
      ]
     },
     "execution_count": 37,
     "metadata": {},
     "output_type": "execute_result"
    }
   ],
   "source": [
    "# Display the averages of flavor by rating cutoffs:\n",
    "t_new['flavor']=t_new['flavor'].astype(float)\n",
    "t_new.groupby('rating_cutoff')['flavor'].mean()"
   ]
  },
  {
   "cell_type": "code",
   "execution_count": 38,
   "metadata": {},
   "outputs": [
    {
     "data": {
      "text/plain": [
       "rating_cutoff\n",
       "[0, 80)      4.594595\n",
       "[80, 85)     6.405405\n",
       "[85, 88)     7.070588\n",
       "[88, 90)     7.399568\n",
       "[90, 92)     7.801697\n",
       "[92, 94)     8.111435\n",
       "[94, 96)     8.579968\n",
       "[96, 100)    8.827586\n",
       "Name: aftertaste, dtype: float64"
      ]
     },
     "execution_count": 38,
     "metadata": {},
     "output_type": "execute_result"
    }
   ],
   "source": [
    "# Display the averages of aftertaste by rating cutoffs:\n",
    "t_new['aftertaste']=t_new['aftertaste'].astype(float)\n",
    "t_new.groupby('rating_cutoff')['aftertaste'].mean()"
   ]
  },
  {
   "cell_type": "markdown",
   "metadata": {},
   "source": [
    "* We find that the high-rated coffee tend to have high ratings in all coffee characteristics."
   ]
  },
  {
   "cell_type": "code",
   "execution_count": 39,
   "metadata": {
    "collapsed": true
   },
   "outputs": [],
   "source": [
    "# create a new dataframe which includes only ratings and coffee characteristics.\n",
    "s=t_new[['rating','agtron_wholebean','agtron_ground','acidity','aroma','body','flavor','aftertaste','withmilk']]"
   ]
  },
  {
   "cell_type": "markdown",
   "metadata": {},
   "source": [
    "* The following heatmap shows the correlation between ratings and coffee characteristics."
   ]
  },
  {
   "cell_type": "code",
   "execution_count": 40,
   "metadata": {},
   "outputs": [
    {
     "data": {
      "text/plain": [
       "<matplotlib.axes._subplots.AxesSubplot at 0x179a1908>"
      ]
     },
     "execution_count": 40,
     "metadata": {},
     "output_type": "execute_result"
    },
    {
     "data": {
      "image/png": "[encoded data removed]",
      "text/plain": [
       "<matplotlib.figure.Figure at 0x157d36d8>"
      ]
     },
     "metadata": {},
     "output_type": "display_data"
    }
   ],
   "source": [
    "import seaborn as sns\n",
    "import matplotlib.pyplot as plt\n",
    "%matplotlib inline\n",
    "\n",
    "plt.figure(figsize=(10,6))\n",
    "sns.heatmap(s.corr(), annot=True)"
   ]
  },
  {
   "cell_type": "markdown",
   "metadata": {},
   "source": [
    "* It seems like the ratings in flavor, aroma, acidity and body have higher correlation with the overall rating. This correlation is in line with Coffee Review's global coffee community assumptions."
   ]
  },
  {
   "cell_type": "markdown",
   "metadata": {},
   "source": [
    "### Descriptive analysis by Location"
   ]
  },
  {
   "cell_type": "code",
   "execution_count": 41,
   "metadata": {},
   "outputs": [
    {
     "data": {
      "text/plain": [
       "(4860L,)"
      ]
     },
     "execution_count": 41,
     "metadata": {},
     "output_type": "execute_result"
    }
   ],
   "source": [
    "df_location=t_new['location']\n",
    "df_location.shape"
   ]
  },
  {
   "cell_type": "code",
   "execution_count": 42,
   "metadata": {},
   "outputs": [
    {
     "data": {
      "text/plain": [
       "(720L,)"
      ]
     },
     "execution_count": 42,
     "metadata": {},
     "output_type": "execute_result"
    }
   ],
   "source": [
    "#drop duplicates for locations\n",
    "df_l=df_location.drop_duplicates()\n",
    "df_l.shape"
   ]
  },
  {
   "cell_type": "markdown",
   "metadata": {},
   "source": [
    "* These 4860 coffee are from 720 locations."
   ]
  },
  {
   "cell_type": "code",
   "execution_count": 45,
   "metadata": {
    "collapsed": true
   },
   "outputs": [],
   "source": [
    "# Extract roasters' location\n",
    "t_new['state/other']=t_new['location'].str.extract('^.*,\\s*(.*)',expand=False)\n",
    "t_new['city']=t_new['location'].str.extract('(.*?),',expand=False)"
   ]
  },
  {
   "cell_type": "code",
   "execution_count": 46,
   "metadata": {},
   "outputs": [
    {
     "data": {
      "text/plain": [
       "0      Colorado\n",
       "1        Taiwan\n",
       "2       Florida\n",
       "3    California\n",
       "4        Taiwan\n",
       "Name: state/other, dtype: object"
      ]
     },
     "execution_count": 46,
     "metadata": {},
     "output_type": "execute_result"
    }
   ],
   "source": [
    "# Display the state information\n",
    "t_new['state/other'].head()"
   ]
  },
  {
   "cell_type": "code",
   "execution_count": 47,
   "metadata": {},
   "outputs": [
    {
     "data": {
      "text/plain": [
       "True     3807\n",
       "False    1053\n",
       "Name: state/other, dtype: int64"
      ]
     },
     "execution_count": 47,
     "metadata": {},
     "output_type": "execute_result"
    }
   ],
   "source": [
    "# How many U.S.coffee products had been evaluated?\n",
    "t_new['state/other'].isin(['Alabama', 'Alaska', 'Arizona', 'Arkansas','California','Colorado','Connecticut'\n",
    "                            ,'Delaware','District of Columbia','Florida','Georgia','Hawaii','Idaho','Illinois'\n",
    "                            ,'Indiana','Iowa','Kansas','Kentucky','Louisiana','Maine','Maryland','Massachusetts'\n",
    "                             ,'Michigan','Minnesota','Mississippi','Missouri','Montana','Nebraska','Nevada'\n",
    "                             ,'New Hampshire','New Jersey','New Mexico','New York','North Carolina','North Dakota'\n",
    "                            ,' Ohio','Oklahoma','Oregon','Pennsylvania','Rhode Island','South Carolina'\n",
    "                            ,'South Dakota','Tennessee','Texas','Utah','Vermont',' Virginia','Washington'\n",
    "                            ,'West Virginia','Wisconsin','Wyoming']).value_counts()"
   ]
  },
  {
   "cell_type": "markdown",
   "metadata": {},
   "source": [
    "* Around 80% of the reviews are for U.S. products."
   ]
  },
  {
   "cell_type": "code",
   "execution_count": 48,
   "metadata": {},
   "outputs": [
    {
     "data": {
      "text/plain": [
       "False    4743\n",
       "True      117\n",
       "Name: state/other, dtype: int64"
      ]
     },
     "execution_count": 48,
     "metadata": {},
     "output_type": "execute_result"
    }
   ],
   "source": [
    "# How many Kansas products had been evaluated?\n",
    "t_new['state/other'].isin(['Kansas']).value_counts()"
   ]
  },
  {
   "cell_type": "markdown",
   "metadata": {},
   "source": [
    "* There are 117 types of coffee come from Kansas!"
   ]
  },
  {
   "cell_type": "code",
   "execution_count": 49,
   "metadata": {
    "collapsed": true
   },
   "outputs": [],
   "source": [
    "# Save Kansas coffee in a separate dataframe\n",
    "t_new_kansas=t_new.groupby('state/other').get_group('Kansas')"
   ]
  },
  {
   "cell_type": "code",
   "execution_count": 50,
   "metadata": {},
   "outputs": [
    {
     "data": {
      "text/html": [
       "<div>\n",
       "<style>\n",
       "    .dataframe thead tr:only-child th {\n",
       "        text-align: right;\n",
       "    }\n",
       "\n",
       "    .dataframe thead th {\n",
       "        text-align: left;\n",
       "    }\n",
       "\n",
       "    .dataframe tbody tr th {\n",
       "        vertical-align: top;\n",
       "    }\n",
       "</style>\n",
       "<table border=\"1\" class=\"dataframe\">\n",
       "  <thead>\n",
       "    <tr style=\"text-align: right;\">\n",
       "      <th></th>\n",
       "      <th>Unnamed: 0</th>\n",
       "      <th>1</th>\n",
       "      <th>product</th>\n",
       "      <th>brand</th>\n",
       "      <th>rating</th>\n",
       "      <th>assessment</th>\n",
       "      <th>note</th>\n",
       "      <th>bottomline</th>\n",
       "      <th>location</th>\n",
       "      <th>origin</th>\n",
       "      <th>...</th>\n",
       "      <th>aroma</th>\n",
       "      <th>body</th>\n",
       "      <th>flavor</th>\n",
       "      <th>aftertaste</th>\n",
       "      <th>withmilk</th>\n",
       "      <th>link</th>\n",
       "      <th>review_year</th>\n",
       "      <th>rating_cutoff</th>\n",
       "      <th>state/other</th>\n",
       "      <th>city</th>\n",
       "    </tr>\n",
       "  </thead>\n",
       "  <tbody>\n",
       "    <tr>\n",
       "      <th>22</th>\n",
       "      <td>22</td>\n",
       "      <td>Product: Sumatra Tano Batak, u\"Brand: PTs Cof...</td>\n",
       "      <td>Sumatra Tano Batak</td>\n",
       "      <td>PTs Coffee Roasting\"</td>\n",
       "      <td>94.0</td>\n",
       "      <td>Floral, richly earth-toned. Lilac, black cherr...</td>\n",
       "      <td>This coffee tied for the second-highest ratin...</td>\n",
       "      <td>This rich Sumatra invokes the experience of e...</td>\n",
       "      <td>Topeka, Kansas</td>\n",
       "      <td>Lintong growing region, North Sumatra Provinc...</td>\n",
       "      <td>...</td>\n",
       "      <td>9.0</td>\n",
       "      <td>9.0</td>\n",
       "      <td>9.0</td>\n",
       "      <td>8.0</td>\n",
       "      <td>NaN</td>\n",
       "      <td>True</td>\n",
       "      <td>2018.0</td>\n",
       "      <td>[94, 96)</td>\n",
       "      <td>Kansas</td>\n",
       "      <td>Topeka</td>\n",
       "    </tr>\n",
       "    <tr>\n",
       "      <th>26</th>\n",
       "      <td>26</td>\n",
       "      <td>Product: Granja La Esperanza Sudan Rume Natur...</td>\n",
       "      <td>Granja La Esperanza Sudan Rume Natural</td>\n",
       "      <td>PTs Coffee Roasting\"</td>\n",
       "      <td>95.0</td>\n",
       "      <td>Intensely pungent, richly vibrant, deeply swee...</td>\n",
       "      <td>Comprised entirely of beans from the rare Sud...</td>\n",
       "      <td>An adventurer\\u2019s coffee from the get-go. ...</td>\n",
       "      <td>Topeka, Kansas</td>\n",
       "      <td>Valle del Cauca growing region, Colombia</td>\n",
       "      <td>...</td>\n",
       "      <td>9.0</td>\n",
       "      <td>9.0</td>\n",
       "      <td>9.0</td>\n",
       "      <td>9.0</td>\n",
       "      <td>NaN</td>\n",
       "      <td>True</td>\n",
       "      <td>2018.0</td>\n",
       "      <td>[94, 96)</td>\n",
       "      <td>Kansas</td>\n",
       "      <td>Topeka</td>\n",
       "    </tr>\n",
       "    <tr>\n",
       "      <th>101</th>\n",
       "      <td>101</td>\n",
       "      <td>Product: Blue Label La Esmeralda Porton Pascu...</td>\n",
       "      <td>Blue Label La Esmeralda Porton Pascua Gesha</td>\n",
       "      <td>PTs Coffee Roasting\"</td>\n",
       "      <td>95.0</td>\n",
       "      <td>Richly sweet, crisply complex, spice-toned. Li...</td>\n",
       "      <td>Coffee from trees of the botanical variety Ge...</td>\n",
       "      <td>A symphonic Gesha cup: high-toned fruit and f...</td>\n",
       "      <td>Topeka, Kansas</td>\n",
       "      <td>Boquete growing region, western Panama</td>\n",
       "      <td>...</td>\n",
       "      <td>9.0</td>\n",
       "      <td>9.0</td>\n",
       "      <td>9.0</td>\n",
       "      <td>9.0</td>\n",
       "      <td>NaN</td>\n",
       "      <td>True</td>\n",
       "      <td>2017.0</td>\n",
       "      <td>[94, 96)</td>\n",
       "      <td>Kansas</td>\n",
       "      <td>Topeka</td>\n",
       "    </tr>\n",
       "    <tr>\n",
       "      <th>102</th>\n",
       "      <td>102</td>\n",
       "      <td>Product: Auromar Gesha Natural, u\"Brand: PTs ...</td>\n",
       "      <td>Auromar Gesha Natural</td>\n",
       "      <td>PTs Coffee Roasting\"</td>\n",
       "      <td>93.0</td>\n",
       "      <td>Delicate, crisply sweet. Dried coconut, baker\\...</td>\n",
       "      <td>Produced from trees of the rare Ethiopia-deri...</td>\n",
       "      <td>A crisp, deeply sweet natural-processed Gesha...</td>\n",
       "      <td>Topeka, Kansas</td>\n",
       "      <td>Piedra Candela, Chiriqui Province, far wester...</td>\n",
       "      <td>...</td>\n",
       "      <td>8.0</td>\n",
       "      <td>9.0</td>\n",
       "      <td>9.0</td>\n",
       "      <td>8.0</td>\n",
       "      <td>NaN</td>\n",
       "      <td>True</td>\n",
       "      <td>2017.0</td>\n",
       "      <td>[92, 94)</td>\n",
       "      <td>Kansas</td>\n",
       "      <td>Topeka</td>\n",
       "    </tr>\n",
       "    <tr>\n",
       "      <th>103</th>\n",
       "      <td>103</td>\n",
       "      <td>Product: Haraz Special Red Yemen, u\"Brand: PT...</td>\n",
       "      <td>Haraz Special Red Yemen</td>\n",
       "      <td>PTs Coffee Roasting\"</td>\n",
       "      <td>92.0</td>\n",
       "      <td>Engaging, richly sweet-savory. Caramelized fig...</td>\n",
       "      <td>Haraz (also Haraaz, other spellings) is a cel...</td>\n",
       "      <td>An attractively idiosyncratic cup from one of...</td>\n",
       "      <td>Topeka, Kansas</td>\n",
       "      <td>Haraz growing region, north-central Yemen</td>\n",
       "      <td>...</td>\n",
       "      <td>9.0</td>\n",
       "      <td>8.0</td>\n",
       "      <td>9.0</td>\n",
       "      <td>8.0</td>\n",
       "      <td>NaN</td>\n",
       "      <td>True</td>\n",
       "      <td>2017.0</td>\n",
       "      <td>[92, 94)</td>\n",
       "      <td>Kansas</td>\n",
       "      <td>Topeka</td>\n",
       "    </tr>\n",
       "  </tbody>\n",
       "</table>\n",
       "<p>5 rows × 27 columns</p>\n",
       "</div>"
      ],
      "text/plain": [
       "     Unnamed: 0                                                  1  \\\n",
       "22           22   Product: Sumatra Tano Batak, u\"Brand: PTs Cof...   \n",
       "26           26   Product: Granja La Esperanza Sudan Rume Natur...   \n",
       "101         101   Product: Blue Label La Esmeralda Porton Pascu...   \n",
       "102         102   Product: Auromar Gesha Natural, u\"Brand: PTs ...   \n",
       "103         103   Product: Haraz Special Red Yemen, u\"Brand: PT...   \n",
       "\n",
       "                                          product                  brand  \\\n",
       "22                             Sumatra Tano Batak   PTs Coffee Roasting\"   \n",
       "26         Granja La Esperanza Sudan Rume Natural   PTs Coffee Roasting\"   \n",
       "101   Blue Label La Esmeralda Porton Pascua Gesha   PTs Coffee Roasting\"   \n",
       "102                         Auromar Gesha Natural   PTs Coffee Roasting\"   \n",
       "103                       Haraz Special Red Yemen   PTs Coffee Roasting\"   \n",
       "\n",
       "     rating                                         assessment  \\\n",
       "22     94.0  Floral, richly earth-toned. Lilac, black cherr...   \n",
       "26     95.0  Intensely pungent, richly vibrant, deeply swee...   \n",
       "101    95.0  Richly sweet, crisply complex, spice-toned. Li...   \n",
       "102    93.0  Delicate, crisply sweet. Dried coconut, baker\\...   \n",
       "103    92.0  Engaging, richly sweet-savory. Caramelized fig...   \n",
       "\n",
       "                                                  note  \\\n",
       "22    This coffee tied for the second-highest ratin...   \n",
       "26    Comprised entirely of beans from the rare Sud...   \n",
       "101   Coffee from trees of the botanical variety Ge...   \n",
       "102   Produced from trees of the rare Ethiopia-deri...   \n",
       "103   Haraz (also Haraaz, other spellings) is a cel...   \n",
       "\n",
       "                                            bottomline         location  \\\n",
       "22    This rich Sumatra invokes the experience of e...   Topeka, Kansas   \n",
       "26    An adventurer\\u2019s coffee from the get-go. ...   Topeka, Kansas   \n",
       "101   A symphonic Gesha cup: high-toned fruit and f...   Topeka, Kansas   \n",
       "102   A crisp, deeply sweet natural-processed Gesha...   Topeka, Kansas   \n",
       "103   An attractively idiosyncratic cup from one of...   Topeka, Kansas   \n",
       "\n",
       "                                                origin   ...    aroma body  \\\n",
       "22    Lintong growing region, North Sumatra Provinc...   ...      9.0  9.0   \n",
       "26            Valle del Cauca growing region, Colombia   ...      9.0  9.0   \n",
       "101             Boquete growing region, western Panama   ...      9.0  9.0   \n",
       "102   Piedra Candela, Chiriqui Province, far wester...   ...      8.0  9.0   \n",
       "103          Haraz growing region, north-central Yemen   ...      9.0  8.0   \n",
       "\n",
       "    flavor aftertaste  withmilk  link  review_year  rating_cutoff  \\\n",
       "22     9.0        8.0       NaN  True       2018.0       [94, 96)   \n",
       "26     9.0        9.0       NaN  True       2018.0       [94, 96)   \n",
       "101    9.0        9.0       NaN  True       2017.0       [94, 96)   \n",
       "102    9.0        8.0       NaN  True       2017.0       [92, 94)   \n",
       "103    9.0        8.0       NaN  True       2017.0       [92, 94)   \n",
       "\n",
       "     state/other     city  \n",
       "22        Kansas   Topeka  \n",
       "26        Kansas   Topeka  \n",
       "101       Kansas   Topeka  \n",
       "102       Kansas   Topeka  \n",
       "103       Kansas   Topeka  \n",
       "\n",
       "[5 rows x 27 columns]"
      ]
     },
     "execution_count": 50,
     "metadata": {},
     "output_type": "execute_result"
    }
   ],
   "source": [
    "t_new_kansas.head()"
   ]
  },
  {
   "cell_type": "code",
   "execution_count": 51,
   "metadata": {},
   "outputs": [
    {
     "data": {
      "text/html": [
       "<div>\n",
       "<style>\n",
       "    .dataframe thead tr:only-child th {\n",
       "        text-align: right;\n",
       "    }\n",
       "\n",
       "    .dataframe thead th {\n",
       "        text-align: left;\n",
       "    }\n",
       "\n",
       "    .dataframe tbody tr th {\n",
       "        vertical-align: top;\n",
       "    }\n",
       "</style>\n",
       "<table border=\"1\" class=\"dataframe\">\n",
       "  <thead>\n",
       "    <tr style=\"text-align: right;\">\n",
       "      <th></th>\n",
       "      <th>brand</th>\n",
       "      <th>location</th>\n",
       "    </tr>\n",
       "  </thead>\n",
       "  <tbody>\n",
       "    <tr>\n",
       "      <th>22</th>\n",
       "      <td>PTs Coffee Roasting\"</td>\n",
       "      <td>Topeka, Kansas</td>\n",
       "    </tr>\n",
       "    <tr>\n",
       "      <th>414</th>\n",
       "      <td>PTs Coffee Roasting Co.\"</td>\n",
       "      <td>Topeka, Kansas</td>\n",
       "    </tr>\n",
       "    <tr>\n",
       "      <th>704</th>\n",
       "      <td>Mother Earth Coffee</td>\n",
       "      <td>Kansas City, Kansas</td>\n",
       "    </tr>\n",
       "    <tr>\n",
       "      <th>1291</th>\n",
       "      <td>Alchemy</td>\n",
       "      <td>Lawrence, Kansas</td>\n",
       "    </tr>\n",
       "    <tr>\n",
       "      <th>4431</th>\n",
       "      <td>PTs Coffee Roasting Co.\"</td>\n",
       "      <td>Topeka, Kansas</td>\n",
       "    </tr>\n",
       "  </tbody>\n",
       "</table>\n",
       "</div>"
      ],
      "text/plain": [
       "                          brand              location\n",
       "22         PTs Coffee Roasting\"        Topeka, Kansas\n",
       "414    PTs Coffee Roasting Co.\"        Topeka, Kansas\n",
       "704         Mother Earth Coffee   Kansas City, Kansas\n",
       "1291                    Alchemy      Lawrence, Kansas\n",
       "4431   PTs Coffee Roasting Co.\"        Topeka, Kansas"
      ]
     },
     "execution_count": 51,
     "metadata": {},
     "output_type": "execute_result"
    }
   ],
   "source": [
    "# locations and brands for Kansas coffee\n",
    "t_new_kansas_b=t_new_kansas[['brand','location']].drop_duplicates()\n",
    "t_new_kansas_b"
   ]
  },
  {
   "cell_type": "markdown",
   "metadata": {},
   "source": [
    "* Notice that there are some duplicates for the brands, so we need to keep deeper data cleaning."
   ]
  },
  {
   "cell_type": "code",
   "execution_count": 52,
   "metadata": {},
   "outputs": [
    {
     "name": "stderr",
     "output_type": "stream",
     "text": [
      "C:\\ProgramData\\Anaconda2\\lib\\site-packages\\ipykernel_launcher.py:1: SettingWithCopyWarning: \n",
      "A value is trying to be set on a copy of a slice from a DataFrame.\n",
      "Try using .loc[row_indexer,col_indexer] = value instead\n",
      "\n",
      "See the caveats in the documentation: http://pandas.pydata.org/pandas-docs/stable/indexing.html#indexing-view-versus-copy\n",
      "  \"\"\"Entry point for launching an IPython kernel.\n"
     ]
    }
   ],
   "source": [
    "t_new_kansas['brand']=t_new_kansas['brand'].str.replace('PTs Coffee Roasting\"|PTs Coffee Roasting Co.\"|PTs Coffee Roasting Co.\"','PTs Coffee Roasting')"
   ]
  },
  {
   "cell_type": "markdown",
   "metadata": {},
   "source": [
    "* Kansas coffee comes from PTs Coffee Roasting (Tokepa), Mother Earth Coffee (Kansas City), and Alchemy (Lawrence)."
   ]
  },
  {
   "cell_type": "code",
   "execution_count": 54,
   "metadata": {
    "scrolled": true
   },
   "outputs": [
    {
     "data": {
      "text/html": [
       "<div>\n",
       "<style>\n",
       "    .dataframe thead tr:only-child th {\n",
       "        text-align: right;\n",
       "    }\n",
       "\n",
       "    .dataframe thead th {\n",
       "        text-align: left;\n",
       "    }\n",
       "\n",
       "    .dataframe tbody tr th {\n",
       "        vertical-align: top;\n",
       "    }\n",
       "</style>\n",
       "<table border=\"1\" class=\"dataframe\">\n",
       "  <thead>\n",
       "    <tr style=\"text-align: right;\">\n",
       "      <th></th>\n",
       "      <th>Unnamed: 0</th>\n",
       "      <th>rating</th>\n",
       "      <th>agtron_wholebean</th>\n",
       "      <th>agtron_ground</th>\n",
       "      <th>acidity</th>\n",
       "      <th>aroma</th>\n",
       "      <th>body</th>\n",
       "      <th>flavor</th>\n",
       "      <th>aftertaste</th>\n",
       "      <th>withmilk</th>\n",
       "      <th>link</th>\n",
       "      <th>review_year</th>\n",
       "    </tr>\n",
       "    <tr>\n",
       "      <th>brand</th>\n",
       "      <th></th>\n",
       "      <th></th>\n",
       "      <th></th>\n",
       "      <th></th>\n",
       "      <th></th>\n",
       "      <th></th>\n",
       "      <th></th>\n",
       "      <th></th>\n",
       "      <th></th>\n",
       "      <th></th>\n",
       "      <th></th>\n",
       "      <th></th>\n",
       "    </tr>\n",
       "  </thead>\n",
       "  <tbody>\n",
       "    <tr>\n",
       "      <th>PTs Coffee Roasting</th>\n",
       "      <td>2285.026316</td>\n",
       "      <td>92.131579</td>\n",
       "      <td>54.63964</td>\n",
       "      <td>73.711712</td>\n",
       "      <td>8.833333</td>\n",
       "      <td>8.451327</td>\n",
       "      <td>8.159292</td>\n",
       "      <td>8.681416</td>\n",
       "      <td>8.242991</td>\n",
       "      <td>8.2</td>\n",
       "      <td>0.991228</td>\n",
       "      <td>2010.666667</td>\n",
       "    </tr>\n",
       "    <tr>\n",
       "      <th>Alchemy</th>\n",
       "      <td>1291.000000</td>\n",
       "      <td>92.000000</td>\n",
       "      <td>NaN</td>\n",
       "      <td>NaN</td>\n",
       "      <td>NaN</td>\n",
       "      <td>NaN</td>\n",
       "      <td>8.000000</td>\n",
       "      <td>9.000000</td>\n",
       "      <td>8.000000</td>\n",
       "      <td>9.0</td>\n",
       "      <td>1.000000</td>\n",
       "      <td>2014.000000</td>\n",
       "    </tr>\n",
       "    <tr>\n",
       "      <th>Mother Earth Coffee</th>\n",
       "      <td>704.500000</td>\n",
       "      <td>90.500000</td>\n",
       "      <td>52.00000</td>\n",
       "      <td>65.000000</td>\n",
       "      <td>NaN</td>\n",
       "      <td>8.000000</td>\n",
       "      <td>8.500000</td>\n",
       "      <td>8.000000</td>\n",
       "      <td>7.500000</td>\n",
       "      <td>9.0</td>\n",
       "      <td>1.000000</td>\n",
       "      <td>2016.000000</td>\n",
       "    </tr>\n",
       "  </tbody>\n",
       "</table>\n",
       "</div>"
      ],
      "text/plain": [
       "                       Unnamed: 0     rating  agtron_wholebean  agtron_ground  \\\n",
       "brand                                                                           \n",
       " PTs Coffee Roasting  2285.026316  92.131579          54.63964      73.711712   \n",
       "Alchemy               1291.000000  92.000000               NaN            NaN   \n",
       "Mother Earth Coffee    704.500000  90.500000          52.00000      65.000000   \n",
       "\n",
       "                       acidity     aroma      body    flavor  aftertaste  \\\n",
       "brand                                                                      \n",
       " PTs Coffee Roasting  8.833333  8.451327  8.159292  8.681416    8.242991   \n",
       "Alchemy                    NaN       NaN  8.000000  9.000000    8.000000   \n",
       "Mother Earth Coffee        NaN  8.000000  8.500000  8.000000    7.500000   \n",
       "\n",
       "                      withmilk      link  review_year  \n",
       "brand                                                  \n",
       " PTs Coffee Roasting       8.2  0.991228  2010.666667  \n",
       "Alchemy                    9.0  1.000000  2014.000000  \n",
       "Mother Earth Coffee        9.0  1.000000  2016.000000  "
      ]
     },
     "execution_count": 54,
     "metadata": {},
     "output_type": "execute_result"
    }
   ],
   "source": [
    "# Display the averages of coffee characterisitcs of Kansas coffee by brands.\n",
    "t_new_kansas.groupby('brand').mean()"
   ]
  },
  {
   "cell_type": "markdown",
   "metadata": {},
   "source": [
    "Ranking by the means:\n",
    "* The overall rating: PT's > Alchemy > Mother Earth \n",
    "* Body: Mother Earth > PT's > Alchemy\n",
    "* Falvor: Alchemy > PT's > Mother Earth\n",
    "* Aftertaste: PT's > Alchemy > Mother Earth"
   ]
  },
  {
   "cell_type": "code",
   "execution_count": 55,
   "metadata": {},
   "outputs": [
    {
     "data": {
      "text/plain": [
       "False    4780\n",
       "True       80\n",
       "Name: state/other, dtype: int64"
      ]
     },
     "execution_count": 55,
     "metadata": {},
     "output_type": "execute_result"
    }
   ],
   "source": [
    "# How many Missouri products had been evaluated?\n",
    "t_new['state/other'].isin(['Missouri']).value_counts()"
   ]
  },
  {
   "cell_type": "markdown",
   "metadata": {},
   "source": [
    "* There are 80 products come from Missouri."
   ]
  },
  {
   "cell_type": "code",
   "execution_count": 56,
   "metadata": {},
   "outputs": [
    {
     "data": {
      "text/html": [
       "<div>\n",
       "<style>\n",
       "    .dataframe thead tr:only-child th {\n",
       "        text-align: right;\n",
       "    }\n",
       "\n",
       "    .dataframe thead th {\n",
       "        text-align: left;\n",
       "    }\n",
       "\n",
       "    .dataframe tbody tr th {\n",
       "        vertical-align: top;\n",
       "    }\n",
       "</style>\n",
       "<table border=\"1\" class=\"dataframe\">\n",
       "  <thead>\n",
       "    <tr style=\"text-align: right;\">\n",
       "      <th></th>\n",
       "      <th>Unnamed: 0</th>\n",
       "      <th>1</th>\n",
       "      <th>product</th>\n",
       "      <th>brand</th>\n",
       "      <th>rating</th>\n",
       "      <th>assessment</th>\n",
       "      <th>note</th>\n",
       "      <th>bottomline</th>\n",
       "      <th>location</th>\n",
       "      <th>origin</th>\n",
       "      <th>...</th>\n",
       "      <th>aroma</th>\n",
       "      <th>body</th>\n",
       "      <th>flavor</th>\n",
       "      <th>aftertaste</th>\n",
       "      <th>withmilk</th>\n",
       "      <th>link</th>\n",
       "      <th>review_year</th>\n",
       "      <th>rating_cutoff</th>\n",
       "      <th>state/other</th>\n",
       "      <th>city</th>\n",
       "    </tr>\n",
       "  </thead>\n",
       "  <tbody>\n",
       "    <tr>\n",
       "      <th>648</th>\n",
       "      <td>648</td>\n",
       "      <td>Product: Brazil Fazenda Do Serrado, Brand: Pa...</td>\n",
       "      <td>Brazil Fazenda Do Serrado</td>\n",
       "      <td>Parisi Artisan Coffee</td>\n",
       "      <td>92.0</td>\n",
       "      <td>Complex, sweetly spice-toned. Vanilla paste, c...</td>\n",
       "      <td>Produced by the Jose Antonio Pereira Estate, ...</td>\n",
       "      <td>A sweetly spice-driven coffee with the inviti...</td>\n",
       "      <td>Kansas City, Missouri</td>\n",
       "      <td>Carmo de Minas growing region, northeastern M...</td>\n",
       "      <td>...</td>\n",
       "      <td>9.0</td>\n",
       "      <td>8.0</td>\n",
       "      <td>9.0</td>\n",
       "      <td>8.0</td>\n",
       "      <td>NaN</td>\n",
       "      <td>True</td>\n",
       "      <td>2016.0</td>\n",
       "      <td>[92, 94)</td>\n",
       "      <td>Missouri</td>\n",
       "      <td>Kansas City</td>\n",
       "    </tr>\n",
       "    <tr>\n",
       "      <th>1130</th>\n",
       "      <td>1130</td>\n",
       "      <td>Product: Kenya Kia Kiamarigo AA, Brand: Paris...</td>\n",
       "      <td>Kenya Kia Kiamarigo AA</td>\n",
       "      <td>Parisi Artisan Coffee</td>\n",
       "      <td>92.0</td>\n",
       "      <td>Intense, pungent, arresting. Honey, sweetly ta...</td>\n",
       "      <td>Produced mainly from trees of the admired, Bo...</td>\n",
       "      <td>Those who enjoy the peculiar intensity of cer...</td>\n",
       "      <td>Kansas City, Missouri</td>\n",
       "      <td>Nyeri growing region, south-central Kenya.</td>\n",
       "      <td>...</td>\n",
       "      <td>8.0</td>\n",
       "      <td>8.0</td>\n",
       "      <td>9.0</td>\n",
       "      <td>8.0</td>\n",
       "      <td>NaN</td>\n",
       "      <td>True</td>\n",
       "      <td>2014.0</td>\n",
       "      <td>[92, 94)</td>\n",
       "      <td>Missouri</td>\n",
       "      <td>Kansas City</td>\n",
       "    </tr>\n",
       "    <tr>\n",
       "      <th>1131</th>\n",
       "      <td>1131</td>\n",
       "      <td>Product: Parisi Espresso, Brand: Parisi Artis...</td>\n",
       "      <td>Parisi Espresso</td>\n",
       "      <td>Parisi Artisan Coffee</td>\n",
       "      <td>91.0</td>\n",
       "      <td>Evaluated as espresso. Zesty and rich-toned. C...</td>\n",
       "      <td>Parisi Artisan Coffee is the specialty coffee...</td>\n",
       "      <td>The lively persistence in milk may attract ca...</td>\n",
       "      <td>Kansas City, Missouri</td>\n",
       "      <td>Not disclosed.</td>\n",
       "      <td>...</td>\n",
       "      <td>8.0</td>\n",
       "      <td>9.0</td>\n",
       "      <td>8.0</td>\n",
       "      <td>8.0</td>\n",
       "      <td>8.0</td>\n",
       "      <td>True</td>\n",
       "      <td>2014.0</td>\n",
       "      <td>[90, 92)</td>\n",
       "      <td>Missouri</td>\n",
       "      <td>Kansas City</td>\n",
       "    </tr>\n",
       "    <tr>\n",
       "      <th>1226</th>\n",
       "      <td>1226</td>\n",
       "      <td>Product: Ethiopia Yirgacheffe Gutiti, Brand: ...</td>\n",
       "      <td>Ethiopia Yirgacheffe Gutiti</td>\n",
       "      <td>Parisi Artisan Coffee</td>\n",
       "      <td>93.0</td>\n",
       "      <td>Crisp, exhilaratingly floral. Dry, cocoa-like ...</td>\n",
       "      <td>Yirgacheffe is a coffee region in southern Et...</td>\n",
       "      <td>Those who enjoy a dramatically aromatic and c...</td>\n",
       "      <td>Kansas City, Missouri</td>\n",
       "      <td>Gedeo Zone, Yirgacheffe growing region, south...</td>\n",
       "      <td>...</td>\n",
       "      <td>9.0</td>\n",
       "      <td>8.0</td>\n",
       "      <td>10.0</td>\n",
       "      <td>8.0</td>\n",
       "      <td>NaN</td>\n",
       "      <td>True</td>\n",
       "      <td>2014.0</td>\n",
       "      <td>[92, 94)</td>\n",
       "      <td>Missouri</td>\n",
       "      <td>Kansas City</td>\n",
       "    </tr>\n",
       "    <tr>\n",
       "      <th>1227</th>\n",
       "      <td>1227</td>\n",
       "      <td>Product: Kenya Ruarai AB, Brand: Parisi Artis...</td>\n",
       "      <td>Kenya Ruarai AB</td>\n",
       "      <td>Parisi Artisan Coffee</td>\n",
       "      <td>93.0</td>\n",
       "      <td>Complex, elegant, intense. Honey, lavender, ro...</td>\n",
       "      <td>Grown by members of the Ruthaka Cooperative, ...</td>\n",
       "      <td>Fine example of the great Kenya profile: comp...</td>\n",
       "      <td>Kansas City, Missouri</td>\n",
       "      <td>Nyeri growing region, south-central Kenya.</td>\n",
       "      <td>...</td>\n",
       "      <td>9.0</td>\n",
       "      <td>8.0</td>\n",
       "      <td>9.0</td>\n",
       "      <td>9.0</td>\n",
       "      <td>NaN</td>\n",
       "      <td>True</td>\n",
       "      <td>2014.0</td>\n",
       "      <td>[92, 94)</td>\n",
       "      <td>Missouri</td>\n",
       "      <td>Kansas City</td>\n",
       "    </tr>\n",
       "  </tbody>\n",
       "</table>\n",
       "<p>5 rows × 27 columns</p>\n",
       "</div>"
      ],
      "text/plain": [
       "      Unnamed: 0                                                  1  \\\n",
       "648          648   Product: Brazil Fazenda Do Serrado, Brand: Pa...   \n",
       "1130        1130   Product: Kenya Kia Kiamarigo AA, Brand: Paris...   \n",
       "1131        1131   Product: Parisi Espresso, Brand: Parisi Artis...   \n",
       "1226        1226   Product: Ethiopia Yirgacheffe Gutiti, Brand: ...   \n",
       "1227        1227   Product: Kenya Ruarai AB, Brand: Parisi Artis...   \n",
       "\n",
       "                           product                  brand  rating  \\\n",
       "648      Brazil Fazenda Do Serrado  Parisi Artisan Coffee    92.0   \n",
       "1130        Kenya Kia Kiamarigo AA  Parisi Artisan Coffee    92.0   \n",
       "1131               Parisi Espresso  Parisi Artisan Coffee    91.0   \n",
       "1226   Ethiopia Yirgacheffe Gutiti  Parisi Artisan Coffee    93.0   \n",
       "1227               Kenya Ruarai AB  Parisi Artisan Coffee    93.0   \n",
       "\n",
       "                                             assessment  \\\n",
       "648   Complex, sweetly spice-toned. Vanilla paste, c...   \n",
       "1130  Intense, pungent, arresting. Honey, sweetly ta...   \n",
       "1131  Evaluated as espresso. Zesty and rich-toned. C...   \n",
       "1226  Crisp, exhilaratingly floral. Dry, cocoa-like ...   \n",
       "1227  Complex, elegant, intense. Honey, lavender, ro...   \n",
       "\n",
       "                                                   note  \\\n",
       "648    Produced by the Jose Antonio Pereira Estate, ...   \n",
       "1130   Produced mainly from trees of the admired, Bo...   \n",
       "1131   Parisi Artisan Coffee is the specialty coffee...   \n",
       "1226   Yirgacheffe is a coffee region in southern Et...   \n",
       "1227   Grown by members of the Ruthaka Cooperative, ...   \n",
       "\n",
       "                                             bottomline  \\\n",
       "648    A sweetly spice-driven coffee with the inviti...   \n",
       "1130   Those who enjoy the peculiar intensity of cer...   \n",
       "1131   The lively persistence in milk may attract ca...   \n",
       "1226   Those who enjoy a dramatically aromatic and c...   \n",
       "1227   Fine example of the great Kenya profile: comp...   \n",
       "\n",
       "                    location  \\\n",
       "648    Kansas City, Missouri   \n",
       "1130   Kansas City, Missouri   \n",
       "1131   Kansas City, Missouri   \n",
       "1226   Kansas City, Missouri   \n",
       "1227   Kansas City, Missouri   \n",
       "\n",
       "                                                 origin      ...      aroma  \\\n",
       "648    Carmo de Minas growing region, northeastern M...      ...        9.0   \n",
       "1130         Nyeri growing region, south-central Kenya.      ...        8.0   \n",
       "1131                                     Not disclosed.      ...        8.0   \n",
       "1226   Gedeo Zone, Yirgacheffe growing region, south...      ...        9.0   \n",
       "1227         Nyeri growing region, south-central Kenya.      ...        9.0   \n",
       "\n",
       "     body flavor aftertaste  withmilk  link  review_year  rating_cutoff  \\\n",
       "648   8.0    9.0        8.0       NaN  True       2016.0       [92, 94)   \n",
       "1130  8.0    9.0        8.0       NaN  True       2014.0       [92, 94)   \n",
       "1131  9.0    8.0        8.0       8.0  True       2014.0       [90, 92)   \n",
       "1226  8.0   10.0        8.0       NaN  True       2014.0       [92, 94)   \n",
       "1227  8.0    9.0        9.0       NaN  True       2014.0       [92, 94)   \n",
       "\n",
       "      state/other          city  \n",
       "648      Missouri   Kansas City  \n",
       "1130     Missouri   Kansas City  \n",
       "1131     Missouri   Kansas City  \n",
       "1226     Missouri   Kansas City  \n",
       "1227     Missouri   Kansas City  \n",
       "\n",
       "[5 rows x 27 columns]"
      ]
     },
     "execution_count": 56,
     "metadata": {},
     "output_type": "execute_result"
    }
   ],
   "source": [
    "# How many Missouri products had been evaluated?\n",
    "t_new_missouri=t_new.groupby('state/other').get_group('Missouri')\n",
    "t_new_missouri.head()"
   ]
  },
  {
   "cell_type": "code",
   "execution_count": 57,
   "metadata": {},
   "outputs": [
    {
     "data": {
      "text/html": [
       "<div>\n",
       "<style>\n",
       "    .dataframe thead tr:only-child th {\n",
       "        text-align: right;\n",
       "    }\n",
       "\n",
       "    .dataframe thead th {\n",
       "        text-align: left;\n",
       "    }\n",
       "\n",
       "    .dataframe tbody tr th {\n",
       "        vertical-align: top;\n",
       "    }\n",
       "</style>\n",
       "<table border=\"1\" class=\"dataframe\">\n",
       "  <thead>\n",
       "    <tr style=\"text-align: right;\">\n",
       "      <th></th>\n",
       "      <th>brand</th>\n",
       "      <th>location</th>\n",
       "    </tr>\n",
       "  </thead>\n",
       "  <tbody>\n",
       "    <tr>\n",
       "      <th>648</th>\n",
       "      <td>Parisi Artisan Coffee</td>\n",
       "      <td>Kansas City, Missouri</td>\n",
       "    </tr>\n",
       "    <tr>\n",
       "      <th>1328</th>\n",
       "      <td>Blueprint Coffee</td>\n",
       "      <td>St. Louis, Missouri</td>\n",
       "    </tr>\n",
       "    <tr>\n",
       "      <th>1678</th>\n",
       "      <td>The Roasterie</td>\n",
       "      <td>Kansas City, Missouri</td>\n",
       "    </tr>\n",
       "    <tr>\n",
       "      <th>2364</th>\n",
       "      <td>Kaldis Coffee\"</td>\n",
       "      <td>St. Louis, Missouri</td>\n",
       "    </tr>\n",
       "    <tr>\n",
       "      <th>2500</th>\n",
       "      <td>Kaldis Coffee Roasting\"</td>\n",
       "      <td>St. Louis, Missouri</td>\n",
       "    </tr>\n",
       "    <tr>\n",
       "      <th>4350</th>\n",
       "      <td>The Roasterie</td>\n",
       "      <td>Kansas City, Missouri</td>\n",
       "    </tr>\n",
       "  </tbody>\n",
       "</table>\n",
       "</div>"
      ],
      "text/plain": [
       "                         brand                 location\n",
       "648      Parisi Artisan Coffee    Kansas City, Missouri\n",
       "1328          Blueprint Coffee      St. Louis, Missouri\n",
       "1678             The Roasterie    Kansas City, Missouri\n",
       "2364            Kaldis Coffee\"      St. Louis, Missouri\n",
       "2500   Kaldis Coffee Roasting\"      St. Louis, Missouri\n",
       "4350             The Roasterie    Kansas City, Missouri"
      ]
     },
     "execution_count": 57,
     "metadata": {},
     "output_type": "execute_result"
    }
   ],
   "source": [
    "# locations and brands for Missouri coffee\n",
    "t_new_missouri_b=t_new_missouri[['brand','location']].drop_duplicates()\n",
    "t_new_missouri_b"
   ]
  },
  {
   "cell_type": "code",
   "execution_count": 58,
   "metadata": {},
   "outputs": [
    {
     "name": "stderr",
     "output_type": "stream",
     "text": [
      "C:\\ProgramData\\Anaconda2\\lib\\site-packages\\ipykernel_launcher.py:1: SettingWithCopyWarning: \n",
      "A value is trying to be set on a copy of a slice from a DataFrame.\n",
      "Try using .loc[row_indexer,col_indexer] = value instead\n",
      "\n",
      "See the caveats in the documentation: http://pandas.pydata.org/pandas-docs/stable/indexing.html#indexing-view-versus-copy\n",
      "  \"\"\"Entry point for launching an IPython kernel.\n",
      "C:\\ProgramData\\Anaconda2\\lib\\site-packages\\ipykernel_launcher.py:2: SettingWithCopyWarning: \n",
      "A value is trying to be set on a copy of a slice from a DataFrame.\n",
      "Try using .loc[row_indexer,col_indexer] = value instead\n",
      "\n",
      "See the caveats in the documentation: http://pandas.pydata.org/pandas-docs/stable/indexing.html#indexing-view-versus-copy\n",
      "  \n"
     ]
    }
   ],
   "source": [
    "t_new_missouri['brand']=t_new_missouri['brand'].str.replace('The Roasterie|The Roasterie','The Roasterie')\n",
    "t_new_missouri['brand']=t_new_missouri['brand'].str.replace('Kaldis Coffee Roasting\"|Kaldis Coffee\"','Kaldis Coffee Roasting')"
   ]
  },
  {
   "cell_type": "code",
   "execution_count": 59,
   "metadata": {},
   "outputs": [
    {
     "data": {
      "text/html": [
       "<div>\n",
       "<style>\n",
       "    .dataframe thead tr:only-child th {\n",
       "        text-align: right;\n",
       "    }\n",
       "\n",
       "    .dataframe thead th {\n",
       "        text-align: left;\n",
       "    }\n",
       "\n",
       "    .dataframe tbody tr th {\n",
       "        vertical-align: top;\n",
       "    }\n",
       "</style>\n",
       "<table border=\"1\" class=\"dataframe\">\n",
       "  <thead>\n",
       "    <tr style=\"text-align: right;\">\n",
       "      <th></th>\n",
       "      <th>Unnamed: 0</th>\n",
       "      <th>rating</th>\n",
       "      <th>agtron_wholebean</th>\n",
       "      <th>agtron_ground</th>\n",
       "      <th>acidity</th>\n",
       "      <th>aroma</th>\n",
       "      <th>body</th>\n",
       "      <th>flavor</th>\n",
       "      <th>aftertaste</th>\n",
       "      <th>withmilk</th>\n",
       "      <th>link</th>\n",
       "      <th>review_year</th>\n",
       "    </tr>\n",
       "    <tr>\n",
       "      <th>brand</th>\n",
       "      <th></th>\n",
       "      <th></th>\n",
       "      <th></th>\n",
       "      <th></th>\n",
       "      <th></th>\n",
       "      <th></th>\n",
       "      <th></th>\n",
       "      <th></th>\n",
       "      <th></th>\n",
       "      <th></th>\n",
       "      <th></th>\n",
       "      <th></th>\n",
       "    </tr>\n",
       "  </thead>\n",
       "  <tbody>\n",
       "    <tr>\n",
       "      <th>Kaldis Coffee Roasting</th>\n",
       "      <td>2913.875000</td>\n",
       "      <td>90.500000</td>\n",
       "      <td>49.250000</td>\n",
       "      <td>63.625000</td>\n",
       "      <td>NaN</td>\n",
       "      <td>8.250000</td>\n",
       "      <td>7.750000</td>\n",
       "      <td>8.375000</td>\n",
       "      <td>7.857143</td>\n",
       "      <td>8.500000</td>\n",
       "      <td>1.000000</td>\n",
       "      <td>2009.000000</td>\n",
       "    </tr>\n",
       "    <tr>\n",
       "      <th>Blueprint Coffee</th>\n",
       "      <td>1430.666667</td>\n",
       "      <td>92.333333</td>\n",
       "      <td>58.666667</td>\n",
       "      <td>76.333333</td>\n",
       "      <td>NaN</td>\n",
       "      <td>8.500000</td>\n",
       "      <td>8.666667</td>\n",
       "      <td>8.666667</td>\n",
       "      <td>8.333333</td>\n",
       "      <td>8.000000</td>\n",
       "      <td>1.000000</td>\n",
       "      <td>2013.666667</td>\n",
       "    </tr>\n",
       "    <tr>\n",
       "      <th>Parisi Artisan Coffee</th>\n",
       "      <td>1744.000000</td>\n",
       "      <td>90.666667</td>\n",
       "      <td>52.333333</td>\n",
       "      <td>65.250000</td>\n",
       "      <td>NaN</td>\n",
       "      <td>8.333333</td>\n",
       "      <td>8.000000</td>\n",
       "      <td>8.500000</td>\n",
       "      <td>7.750000</td>\n",
       "      <td>8.000000</td>\n",
       "      <td>1.000000</td>\n",
       "      <td>2012.750000</td>\n",
       "    </tr>\n",
       "    <tr>\n",
       "      <th>The Roasterie</th>\n",
       "      <td>3418.614035</td>\n",
       "      <td>90.017544</td>\n",
       "      <td>44.240741</td>\n",
       "      <td>58.611111</td>\n",
       "      <td>NaN</td>\n",
       "      <td>8.140351</td>\n",
       "      <td>7.614035</td>\n",
       "      <td>8.192982</td>\n",
       "      <td>7.878049</td>\n",
       "      <td>8.333333</td>\n",
       "      <td>0.929825</td>\n",
       "      <td>2006.333333</td>\n",
       "    </tr>\n",
       "  </tbody>\n",
       "</table>\n",
       "</div>"
      ],
      "text/plain": [
       "                          Unnamed: 0     rating  agtron_wholebean  \\\n",
       "brand                                                               \n",
       " Kaldis Coffee Roasting  2913.875000  90.500000         49.250000   \n",
       "Blueprint Coffee         1430.666667  92.333333         58.666667   \n",
       "Parisi Artisan Coffee    1744.000000  90.666667         52.333333   \n",
       "The Roasterie            3418.614035  90.017544         44.240741   \n",
       "\n",
       "                         agtron_ground  acidity     aroma      body    flavor  \\\n",
       "brand                                                                           \n",
       " Kaldis Coffee Roasting      63.625000      NaN  8.250000  7.750000  8.375000   \n",
       "Blueprint Coffee             76.333333      NaN  8.500000  8.666667  8.666667   \n",
       "Parisi Artisan Coffee        65.250000      NaN  8.333333  8.000000  8.500000   \n",
       "The Roasterie                58.611111      NaN  8.140351  7.614035  8.192982   \n",
       "\n",
       "                         aftertaste  withmilk      link  review_year  \n",
       "brand                                                                 \n",
       " Kaldis Coffee Roasting    7.857143  8.500000  1.000000  2009.000000  \n",
       "Blueprint Coffee           8.333333  8.000000  1.000000  2013.666667  \n",
       "Parisi Artisan Coffee      7.750000  8.000000  1.000000  2012.750000  \n",
       "The Roasterie              7.878049  8.333333  0.929825  2006.333333  "
      ]
     },
     "execution_count": 59,
     "metadata": {},
     "output_type": "execute_result"
    }
   ],
   "source": [
    "t_new_missouri.groupby('brand').mean()"
   ]
  },
  {
   "cell_type": "markdown",
   "metadata": {},
   "source": [
    "Ranking by the means:\n",
    "* The overall rating: Blueprint > Kaldis > Parisi Artisan > The Roasterie\n",
    "* Aroma: Blueprint > Parisi Artisan > Kaldis > The Roasterie\n",
    "* Body: Blueprint > Parisi Artisan Coffee > Kaldis > The Roasterie\n",
    "* Flavor: Blueprint > Parisi Artisan > Kaldis > The Roasterie\n",
    "* Aftertaste: Blueprint > Kaldis > Parisi Artisan > The Roasterie"
   ]
  },
  {
   "cell_type": "markdown",
   "metadata": {},
   "source": [
    "## Content analytics"
   ]
  },
  {
   "cell_type": "code",
   "execution_count": 60,
   "metadata": {},
   "outputs": [
    {
     "name": "stderr",
     "output_type": "stream",
     "text": [
      "C:\\ProgramData\\Anaconda2\\lib\\site-packages\\gensim\\utils.py:1197: UserWarning: detected Windows; aliasing chunkize to chunkize_serial\n",
      "  warnings.warn(\"detected Windows; aliasing chunkize to chunkize_serial\")\n"
     ]
    }
   ],
   "source": [
    "# import packages for text processing\n",
    "import nltk\n",
    "from nltk.corpus import stopwords\n",
    "from nltk.stem.wordnet import WordNetLemmatizer\n",
    "from nltk.stem.porter import PorterStemmer\n",
    "import re\n",
    "\n",
    "import gensim\n",
    "from gensim.corpora import Dictionary\n",
    "from gensim.models import ldamodel\n",
    "from gensim import corpora, models, similarities\n",
    "\n",
    "from gensim.models.coherencemodel import CoherenceModel\n",
    "from gensim.models.wrappers import LdaVowpalWabbit, LdaMallet\n",
    "\n",
    "import numpy\n",
    "import matplotlib.pyplot as plt\n",
    "%matplotlib inline\n",
    "\n",
    "import warnings\n",
    "warnings.filterwarnings('ignore')  "
   ]
  },
  {
   "cell_type": "code",
   "execution_count": 61,
   "metadata": {
    "collapsed": true
   },
   "outputs": [],
   "source": [
    "#save assessments in a separate csv\n",
    "assess=t_new['assessment']\n",
    "assess.to_csv(\"coffeeassessment.csv\", encoding='utf-8')"
   ]
  },
  {
   "cell_type": "code",
   "execution_count": 62,
   "metadata": {},
   "outputs": [
    {
     "data": {
      "text/plain": [
       "4860"
      ]
     },
     "execution_count": 62,
     "metadata": {},
     "output_type": "execute_result"
    }
   ],
   "source": [
    "#import data\n",
    "texts = []\n",
    "r = csv.reader(open('coffeeassessment.csv', 'rb'))\n",
    "for i in r:\n",
    "    texts.append(i)  \n",
    "len(texts)"
   ]
  },
  {
   "cell_type": "code",
   "execution_count": 63,
   "metadata": {},
   "outputs": [
    {
     "data": {
      "text/plain": [
       "[['0',\n",
       "  'Resonant, sweet-savory, original. Baker\\\\u2019s chocolate, fragrant fresh-cut cedar, green grape, almond, wisteria in aroma and cup. Roundly tart, sweetly savory in structure; plushly syrupy mouthfeel. Flavor, particularly green grape and flowers, carries into a drying finish.'],\n",
       " ['1',\n",
       "  'Deeply sweet, richly earth-toned. Dark chocolate, candy cap mushroom, gardenia, black cherry, grapefruit zest in aroma and cup. Balanced, sweet-savory-tart structure with vibrant acidity; full, syrupy mouthfeel. The crisp, flavor-saturated finish centers around sweet fruit and floral notes and an intriguing savory inclination.']]"
      ]
     },
     "execution_count": 63,
     "metadata": {},
     "output_type": "execute_result"
    }
   ],
   "source": [
    "#first two rows\n",
    "texts[0:2]"
   ]
  },
  {
   "cell_type": "code",
   "execution_count": 64,
   "metadata": {
    "collapsed": true
   },
   "outputs": [],
   "source": [
    "# Remove useless numbers and alphanumerical words\n",
    "documents = [re.sub(\"[^a-zA-Z]+\", \" \", str(text)) for text in texts]\n",
    "\n",
    "# tokenize\n",
    "texts = [[word for word in text.lower().split() ] for text in documents]\n",
    "\n",
    "# stemming words: having --> have; friends --> friend\n",
    "lmtzr = WordNetLemmatizer()\n",
    "texts = [[lmtzr.lemmatize(word) for word in text ] for text in texts]\n",
    "\n",
    "#porter_stemmer = PorterStemmer()\n",
    "#texts = [[porter_stemmer.stem(word) for word in text ] for text in texts]\n",
    "\n",
    "# remove common words \n",
    "stoplist = stopwords.words('english')\n",
    "texts = [[word for word in text if word not in stoplist] for text in texts]\n",
    "\n",
    "#remove short words\n",
    "texts = [[ word for word in tokens if len(word) >= 3 ] for tokens in texts]\n"
   ]
  },
  {
   "cell_type": "code",
   "execution_count": 65,
   "metadata": {
    "collapsed": true
   },
   "outputs": [],
   "source": [
    "# A list of extra stopwords specific to the coffee\n",
    "extra_stopwords = ['coffee', 'cup', 'need','going', 'can', 'lot', 'get','make',\n",
    "                'say','got','said','just','something','now','back','want','right',\n",
    "                'many','along','also','much','let', 'would','does', 'give', 'look', 'one']\n",
    "\n",
    "extra_stoplist = extra_stopwords\n",
    "texts = [[word for word in text if word not in extra_stoplist] for text in texts]"
   ]
  },
  {
   "cell_type": "code",
   "execution_count": 66,
   "metadata": {},
   "outputs": [
    {
     "data": {
      "text/plain": [
       "5207"
      ]
     },
     "execution_count": 66,
     "metadata": {},
     "output_type": "execute_result"
    }
   ],
   "source": [
    "## Create a dictionary representation of the documents.\n",
    "dictionary = Dictionary(texts)\n",
    "dictionary.save('coffee.dict')  # store the dictionary, for future reference\n",
    "\n",
    "len(dictionary)"
   ]
  },
  {
   "cell_type": "code",
   "execution_count": 67,
   "metadata": {},
   "outputs": [
    {
     "data": {
      "text/plain": [
       "1682"
      ]
     },
     "execution_count": 67,
     "metadata": {},
     "output_type": "execute_result"
    }
   ],
   "source": [
    "## Remove rare and common tokens.\n",
    "# ignore words that appear in less than 5 documents or more than 50% documents (remove too frequent & infrequent words) \n",
    "dictionary.filter_extremes(no_below=5, no_above=0.5)\n",
    "len(dictionary)"
   ]
  },
  {
   "cell_type": "code",
   "execution_count": 68,
   "metadata": {},
   "outputs": [
    {
     "data": {
      "text/plain": [
       "4860"
      ]
     },
     "execution_count": 68,
     "metadata": {},
     "output_type": "execute_result"
    }
   ],
   "source": [
    "# convert words to vetors or integers\n",
    "corpus = [dictionary.doc2bow(text) for text in texts]\n",
    "corpora.MmCorpus.serialize('coffee.mm', corpus)  # store to disk, for later use  # store to disk, for later use\n",
    "len(corpus)"
   ]
  },
  {
   "cell_type": "code",
   "execution_count": 69,
   "metadata": {},
   "outputs": [
    {
     "name": "stdout",
     "output_type": "stream",
     "text": [
      "Number of unique tokens: 1682\n",
      "Number of documents: 4860\n"
     ]
    }
   ],
   "source": [
    "print('Number of unique tokens: %d' % len(dictionary))\n",
    "print('Number of documents: %d' % len(corpus))"
   ]
  },
  {
   "cell_type": "code",
   "execution_count": 70,
   "metadata": {
    "collapsed": true
   },
   "outputs": [],
   "source": [
    "# later you can retrive the saved dict and corpus\n",
    "saved_dict = dictionary.load('coffee.dict')"
   ]
  },
  {
   "cell_type": "markdown",
   "metadata": {},
   "source": [
    "### LDA model building"
   ]
  },
  {
   "cell_type": "code",
   "execution_count": 71,
   "metadata": {
    "collapsed": true
   },
   "outputs": [],
   "source": [
    "numpy.random.seed(1) # setting random seed to get the same results each time. \n",
    "model = ldamodel.LdaModel(corpus, id2word=dictionary, num_topics=15, passes=20, eval_every = 1)"
   ]
  },
  {
   "cell_type": "code",
   "execution_count": 72,
   "metadata": {
    "collapsed": true
   },
   "outputs": [],
   "source": [
    "# save model\n",
    "model.save('lda_coffee.model')"
   ]
  },
  {
   "cell_type": "markdown",
   "metadata": {},
   "source": [
    "### Prints the topics."
   ]
  },
  {
   "cell_type": "code",
   "execution_count": 73,
   "metadata": {},
   "outputs": [
    {
     "data": {
      "text/plain": [
       "[(0,\n",
       "  u'0.049*\"ken\" + 0.030*\"found\" + 0.020*\"panelist\" + 0.017*\"flavor\" + 0.014*\"willem\" + 0.013*\"cupping\" + 0.010*\"note\" + 0.010*\"another\" + 0.009*\"taster\" + 0.009*\"sample\"'),\n",
       " (1,\n",
       "  u'0.042*\"dark\" + 0.040*\"hint\" + 0.035*\"syrupy\" + 0.031*\"rich\" + 0.028*\"flower\" + 0.023*\"toned\" + 0.023*\"deep\" + 0.023*\"lightly\" + 0.020*\"cedar\" + 0.018*\"round\"'),\n",
       " (2,\n",
       "  u'0.070*\"taste\" + 0.040*\"nut\" + 0.037*\"subdued\" + 0.037*\"sweetness\" + 0.033*\"clean\" + 0.028*\"sensation\" + 0.022*\"mild\" + 0.021*\"hard\" + 0.020*\"nose\" + 0.020*\"quickly\"'),\n",
       " (3,\n",
       "  u'0.049*\"smoky\" + 0.045*\"sweetness\" + 0.045*\"pungency\" + 0.043*\"tone\" + 0.038*\"profile\" + 0.035*\"roast\" + 0.034*\"rather\" + 0.027*\"nuance\" + 0.025*\"without\" + 0.025*\"vanilla\"'),\n",
       " (4,\n",
       "  u'0.042*\"flower\" + 0.032*\"toned\" + 0.030*\"hint\" + 0.028*\"silky\" + 0.028*\"lemon\" + 0.024*\"flavor\" + 0.022*\"cocoa\" + 0.022*\"balanced\" + 0.021*\"note\" + 0.021*\"delicate\"'),\n",
       " (5,\n",
       "  u'0.039*\"aftertaste\" + 0.026*\"sweetness\" + 0.023*\"floral\" + 0.022*\"cupper\" + 0.022*\"note\" + 0.021*\"tone\" + 0.019*\"enough\" + 0.019*\"like\" + 0.017*\"kenya\" + 0.017*\"dry\"'),\n",
       " (6,\n",
       "  u'0.063*\"note\" + 0.056*\"fruit\" + 0.035*\"toned\" + 0.029*\"astringent\" + 0.029*\"rich\" + 0.023*\"roasty\" + 0.023*\"rather\" + 0.022*\"slightly\" + 0.021*\"dry\" + 0.019*\"pungent\"'),\n",
       " (7,\n",
       "  u'0.047*\"cool\" + 0.032*\"tone\" + 0.026*\"fruit\" + 0.026*\"however\" + 0.026*\"ferment\" + 0.025*\"sharp\" + 0.021*\"full\" + 0.020*\"rating\" + 0.019*\"nuance\" + 0.018*\"bit\"'),\n",
       " (8,\n",
       "  u'0.020*\"toned\" + 0.019*\"syrupy\" + 0.019*\"sweetly\" + 0.018*\"flavor\" + 0.018*\"tart\" + 0.017*\"nib\" + 0.017*\"richly\" + 0.016*\"long\" + 0.016*\"roasted\" + 0.016*\"cacao\"'),\n",
       " (9,\n",
       "  u'0.082*\"acidy\" + 0.034*\"toned\" + 0.033*\"bodied\" + 0.029*\"fruit\" + 0.027*\"little\" + 0.025*\"flat\" + 0.023*\"high\" + 0.021*\"tone\" + 0.020*\"side\" + 0.020*\"classic\"'),\n",
       " (10,\n",
       "  u'0.079*\"roast\" + 0.044*\"dark\" + 0.023*\"body\" + 0.022*\"carbon\" + 0.021*\"profile\" + 0.018*\"call\" + 0.017*\"complex\" + 0.015*\"sweetness\" + 0.014*\"touch\" + 0.014*\"tone\"'),\n",
       " (11,\n",
       "  u'0.060*\"milk\" + 0.035*\"fruit\" + 0.034*\"small\" + 0.033*\"espresso\" + 0.029*\"note\" + 0.024*\"part\" + 0.022*\"toned\" + 0.022*\"evaluated\" + 0.021*\"hint\" + 0.019*\"flavor\"'),\n",
       " (12,\n",
       "  u'0.057*\"ounce\" + 0.048*\"brewed\" + 0.048*\"single\" + 0.047*\"brewing\" + 0.046*\"serve\" + 0.045*\"device\" + 0.043*\"keurig\" + 0.039*\"capsule\" + 0.039*\"using\" + 0.039*\"serving\"'),\n",
       " (13,\n",
       "  u'0.074*\"tobacco\" + 0.045*\"pipe\" + 0.036*\"apple\" + 0.032*\"note\" + 0.028*\"earth\" + 0.026*\"moist\" + 0.020*\"earthy\" + 0.020*\"leaf\" + 0.019*\"fruit\" + 0.019*\"flavor\"'),\n",
       " (14,\n",
       "  u'0.077*\"low\" + 0.041*\"toned\" + 0.041*\"fruit\" + 0.027*\"rich\" + 0.026*\"slight\" + 0.023*\"note\" + 0.019*\"read\" + 0.016*\"key\" + 0.016*\"bodied\" + 0.015*\"hint\"')]"
      ]
     },
     "execution_count": 73,
     "metadata": {},
     "output_type": "execute_result"
    }
   ],
   "source": [
    "model.show_topics(num_topics=15)"
   ]
  },
  {
   "cell_type": "code",
   "execution_count": 74,
   "metadata": {},
   "outputs": [
    {
     "name": "stdout",
     "output_type": "stream",
     "text": [
      "ken, found, panelist, flavor, willem, cupping, note, another, taster, sample\n",
      "dark, hint, syrupy, rich, flower, toned, deep, lightly, cedar, round\n",
      "taste, nut, subdued, sweetness, clean, sensation, mild, hard, nose, quickly\n",
      "smoky, sweetness, pungency, tone, profile, roast, rather, nuance, without, vanilla\n",
      "flower, toned, hint, silky, lemon, flavor, cocoa, balanced, note, delicate\n",
      "aftertaste, sweetness, floral, cupper, note, tone, enough, like, kenya, dry\n",
      "note, fruit, toned, astringent, rich, roasty, rather, slightly, dry, pungent\n",
      "cool, tone, fruit, however, ferment, sharp, full, rating, nuance, bit\n",
      "toned, syrupy, sweetly, flavor, tart, nib, richly, long, roasted, cacao\n",
      "acidy, toned, bodied, fruit, little, flat, high, tone, side, classic\n",
      "roast, dark, body, carbon, profile, call, complex, sweetness, touch, tone\n",
      "milk, fruit, small, espresso, note, part, toned, evaluated, hint, flavor\n",
      "ounce, brewed, single, brewing, serve, device, keurig, capsule, using, serving\n",
      "tobacco, pipe, apple, note, earth, moist, earthy, leaf, fruit, flavor\n",
      "low, toned, fruit, rich, slight, note, read, key, bodied, hint\n"
     ]
    }
   ],
   "source": [
    "# print words without probability\n",
    "for i in range(0,15):\n",
    "    topics = model.show_topic(i, 10)\n",
    "    print ', '.join([str(word[0]) for word in topics])"
   ]
  },
  {
   "cell_type": "markdown",
   "metadata": {},
   "source": [
    "## Network Analysis of  'Co-origins' for all coffees"
   ]
  },
  {
   "cell_type": "markdown",
   "metadata": {},
   "source": [
    "* Generate network graphs using information of origins of each coffee.\n",
    "* Notice that some coffee might have multiple coffee origins. Say, origins of coffee 1 are Yirgacheffe growing region and south-central Ethiopia. Coffee 2's origins are  Gedeb District, Gedeo Zone and southern-central Ethiopia.\n",
    "* Coffee 1 and coffee 2 has the one common origin which is southern-central Ethiopia (the co-origin in this case)\n",
    "* We use the idea of 'co-origin' to build the network analytics."
   ]
  },
  {
   "cell_type": "code",
   "execution_count": 78,
   "metadata": {},
   "outputs": [
    {
     "data": {
      "text/html": [
       "<div>\n",
       "<style>\n",
       "    .dataframe thead tr:only-child th {\n",
       "        text-align: right;\n",
       "    }\n",
       "\n",
       "    .dataframe thead th {\n",
       "        text-align: left;\n",
       "    }\n",
       "\n",
       "    .dataframe tbody tr th {\n",
       "        vertical-align: top;\n",
       "    }\n",
       "</style>\n",
       "<table border=\"1\" class=\"dataframe\">\n",
       "  <thead>\n",
       "    <tr style=\"text-align: right;\">\n",
       "      <th></th>\n",
       "      <th>0</th>\n",
       "      <th>1</th>\n",
       "      <th>2</th>\n",
       "      <th>3</th>\n",
       "      <th>4</th>\n",
       "      <th>5</th>\n",
       "      <th>6</th>\n",
       "    </tr>\n",
       "  </thead>\n",
       "  <tbody>\n",
       "    <tr>\n",
       "      <th>0</th>\n",
       "      <td>Rwanda</td>\n",
       "      <td>None</td>\n",
       "      <td>None</td>\n",
       "      <td>None</td>\n",
       "      <td>None</td>\n",
       "      <td>None</td>\n",
       "      <td>None</td>\n",
       "    </tr>\n",
       "    <tr>\n",
       "      <th>1</th>\n",
       "      <td>Lintong growing region</td>\n",
       "      <td>North Sumatra Province</td>\n",
       "      <td>Indonesia</td>\n",
       "      <td>None</td>\n",
       "      <td>None</td>\n",
       "      <td>None</td>\n",
       "      <td>None</td>\n",
       "    </tr>\n",
       "    <tr>\n",
       "      <th>2</th>\n",
       "      <td>Kayanza</td>\n",
       "      <td>Kabuye</td>\n",
       "      <td>Burundi</td>\n",
       "      <td>None</td>\n",
       "      <td>None</td>\n",
       "      <td>None</td>\n",
       "      <td>None</td>\n",
       "    </tr>\n",
       "    <tr>\n",
       "      <th>3</th>\n",
       "      <td>Per</td>\n",
       "      <td>None</td>\n",
       "      <td>None</td>\n",
       "      <td>None</td>\n",
       "      <td>None</td>\n",
       "      <td>None</td>\n",
       "      <td>None</td>\n",
       "    </tr>\n",
       "    <tr>\n",
       "      <th>4</th>\n",
       "      <td>Yirgacheffe growing region</td>\n",
       "      <td>south-central Ethiopia</td>\n",
       "      <td>None</td>\n",
       "      <td>None</td>\n",
       "      <td>None</td>\n",
       "      <td>None</td>\n",
       "      <td>None</td>\n",
       "    </tr>\n",
       "  </tbody>\n",
       "</table>\n",
       "</div>"
      ],
      "text/plain": [
       "                             0                        1           2     3  \\\n",
       "0                       Rwanda                     None        None  None   \n",
       "1       Lintong growing region   North Sumatra Province   Indonesia  None   \n",
       "2                      Kayanza                   Kabuye     Burundi  None   \n",
       "3                          Per                     None        None  None   \n",
       "4   Yirgacheffe growing region   south-central Ethiopia        None  None   \n",
       "\n",
       "      4     5     6  \n",
       "0  None  None  None  \n",
       "1  None  None  None  \n",
       "2  None  None  None  \n",
       "3  None  None  None  \n",
       "4  None  None  None  "
      ]
     },
     "execution_count": 78,
     "metadata": {},
     "output_type": "execute_result"
    }
   ],
   "source": [
    "origin=t_new['origin'].str.split(',|;', expand=True)\n",
    "origin.head()"
   ]
  },
  {
   "cell_type": "code",
   "execution_count": 79,
   "metadata": {
    "collapsed": true
   },
   "outputs": [],
   "source": [
    "origin.to_csv(\"coffeeorigin.csv\", encoding='utf-8')"
   ]
  },
  {
   "cell_type": "markdown",
   "metadata": {},
   "source": [
    "### Metrics"
   ]
  },
  {
   "cell_type": "markdown",
   "metadata": {},
   "source": [
    "* Average degree=1.568\n",
    "* Average weighted degree=4.169\n",
    "* Network diameter=14\n",
    "* Graph density=0.003\n",
    "* Modularity=0.816\n",
    "* Average clustering coefficient=0.23\n",
    "* Average path length=4.676"
   ]
  },
  {
   "cell_type": "markdown",
   "metadata": {},
   "source": [
    "### Network Analytic Graphs (layout=Yifan Hu)"
   ]
  },
  {
   "cell_type": "code",
   "execution_count": 87,
   "metadata": {},
   "outputs": [
    {
     "data": {
      "image/png": "[encoded data removed]",
      "text/plain": [
       "<PIL.Image.Image image mode=RGB size=600x600 at 0x14F25CF8>"
      ]
     },
     "execution_count": 87,
     "metadata": {},
     "output_type": "execute_result"
    }
   ],
   "source": [
    "# Max>Degree is  filtered by [31,max=71]\n",
    "from PIL import Image\n",
    "im=Image.open('Degree.png')\n",
    "new_width  = 600\n",
    "new_height = 600\n",
    "img = im.resize((new_width, new_height), Image.ANTIALIAS)\n",
    "img"
   ]
  },
  {
   "cell_type": "markdown",
   "metadata": {},
   "source": [
    "* It seems like Brazil, Ethiopia, Indonesia have very high degrees.\n",
    "* Alert: Not sure why there are two 'Indonesia'. The data maybe need more data cleanning later on."
   ]
  },
  {
   "cell_type": "code",
   "execution_count": 88,
   "metadata": {},
   "outputs": [
    {
     "data": {
      "image/png": "[encoded data removed]",
      "text/plain": [
       "<PIL.Image.Image image mode=RGB size=600x600 at 0x25CCD4E0>"
      ]
     },
     "execution_count": 88,
     "metadata": {},
     "output_type": "execute_result"
    }
   ],
   "source": [
    "# Betweenness Centrality is filtered by [267,max=5723]\n",
    "im2=Image.open('Betweenness.png')\n",
    "new_width2  = 600\n",
    "new_height2 = 600\n",
    "img2 = im2.resize((new_width2, new_height2), Image.ANTIALIAS)\n",
    "img2"
   ]
  },
  {
   "cell_type": "markdown",
   "metadata": {},
   "source": [
    "*Similar rankings by betweenness centrality."
   ]
  },
  {
   "cell_type": "markdown",
   "metadata": {
    "collapsed": true
   },
   "source": [
    "# Final analysis & storytelling"
   ]
  },
  {
   "cell_type": "markdown",
   "metadata": {},
   "source": [
    "* The overall rating of coffee in Coffee Review is based on sensory evaluation on the coffee's aroma, body, flavor, aftertaste, with milk, etc. According to the correlation table, we find that flavor and aroma have much higher correlation compared with other characteristics. Among all characteristics, agtron (wholebean and groud) are least important for the rating.\n",
    "\n",
    "* The descriptive statistics by location show that the majority (around 80%) of the coffee reviews are on U.S.products. In the U.S. sample, we find that there are 117 coffee reviews on Kansas coffee and 80 reviews on Missouri coffee. Kansas coffee are mainly from 3 brands: PTs Coffee Roasting, Alchemy, and Mother Earth Coffee. These brands are located at Topeka, Lawrence and Kansas City. Among Kansas brands, it seems like PT's coffee are rated highest among these three. The Missouri coffee are concentrated in 4 brands: Blueprint Coffee, Kaldis Coffee Roasting, Parisi Artisan Coffee, and The Roasterie. Blueprints get highest grades in most of coffee characteristics (except with milk). Kaldis and Parisi Artisan Coffee have very similar grades which rank second and the third. The Roasterie ranks the fourth in Missouri sample. Similar to Kansas coffee, Missouri coffee also come from relative large cities: Kansas City, St.Louis. \n",
    "\n",
    "* The topic modeling in blind assessment suggests that the topics are all related to coffee's aroma, acidity, flavor sensenation words such as \"syrupy\", \"rich\", \"toned\", \"astringent\", \"sweetness\".\n",
    "\n",
    "* In the last part, I use the information on the coffee origin to build the social network of coffee. I borrow the idea of 'co-hastags' from Twitter analytics and apply in this analysis for coffee. In my definition, if two coffee have common coffee origins, then they are related. According to the degree measure, coffee origins' degree is in the range of 1 through 70. This suggests that some coffee origins are very diverse. Some coffee origins might be vey popular. In the first social network graph, I rank origins by degree and keep the origins which have more than 30 degrees. Many popular coffee are originated from South America countries such as Brazil,  Costa Rica, El Salvado, Guatemala; African countries such as Ethiopia (Yirgacheeffe, Southern Ethiopia), Kenya; and Asian countries such as Indonesia. The second social network graph which is ranked by betweenness centrality have very similar result as the first graph."
   ]
  },
  {
   "cell_type": "markdown",
   "metadata": {},
   "source": [
    "# References"
   ]
  },
  {
   "cell_type": "markdown",
   "metadata": {},
   "source": [
    "* http://nbviewer.jupyter.org/github/joshbarlow3835/Final-Project/blob/master/Lin_Barlow_Group_Capstone_Project.html\n",
    "* http://www.webpages.uidaho.edu/~stevel/504/Pandas%20DataFrame%20Notes.pdf"
   ]
  },
  {
   "cell_type": "code",
   "execution_count": null,
   "metadata": {
    "collapsed": true
   },
   "outputs": [],
   "source": []
  }
 ],
 "metadata": {
  "kernelspec": {
   "display_name": "Python 2",
   "language": "python",
   "name": "python2"
  },
  "language_info": {
   "codemirror_mode": {
    "name": "ipython",
    "version": 2
   },
   "file_extension": ".py",
   "mimetype": "text/x-python",
   "name": "python",
   "nbconvert_exporter": "python",
   "pygments_lexer": "ipython2",
   "version": "2.7.14"
  }
 },
 "nbformat": 4,
 "nbformat_minor": 2
}
